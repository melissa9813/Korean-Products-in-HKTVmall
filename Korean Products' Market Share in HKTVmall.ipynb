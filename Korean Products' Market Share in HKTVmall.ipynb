{
 "cells": [
  {
   "cell_type": "code",
   "execution_count": null,
   "id": "eb417abb",
   "metadata": {
    "ExecuteTime": {
     "end_time": "2022-12-02T09:41:59.982000Z",
     "start_time": "2022-12-02T09:41:57.459929Z"
    },
    "scrolled": true
   },
   "outputs": [],
   "source": [
    "pip install selenium --user"
   ]
  },
  {
   "cell_type": "code",
   "execution_count": null,
   "id": "48d1e6f4",
   "metadata": {
    "ExecuteTime": {
     "end_time": "2022-12-02T09:42:02.226569Z",
     "start_time": "2022-12-02T09:41:59.983008Z"
    },
    "scrolled": true
   },
   "outputs": [],
   "source": [
    "pip install webdriver-manager"
   ]
  },
  {
   "cell_type": "markdown",
   "id": "18334f1b",
   "metadata": {},
   "source": [
    "# Are Korean Products Really Dominating Hong Kong Market?"
   ]
  },
  {
   "cell_type": "markdown",
   "id": "9dde7870",
   "metadata": {},
   "source": [
    "## 1. Which category has the most Korean products?\n",
    "category_list = [supermarket, personalcarenhealth, beautynhealth, mothernbaby, pets, gadgetsandelectronics, homenfamily, housewares, deals, sportsntravel, toysnbooks, fashion]\n",
    "\n",
    "*deals = dining & lifestyle"
   ]
  },
  {
   "cell_type": "code",
   "execution_count": 1,
   "id": "984aff9a",
   "metadata": {
    "ExecuteTime": {
     "end_time": "2022-12-03T16:54:58.580329Z",
     "start_time": "2022-12-03T16:54:52.287957Z"
    }
   },
   "outputs": [
    {
     "name": "stderr",
     "output_type": "stream",
     "text": [
      "[WDM] - Downloading:  92%|█████████▏| 6.04M/6.58M [00:00<00:00, 8.72MB/s]"
     ]
    }
   ],
   "source": [
    "import time\n",
    "from selenium import webdriver\n",
    "from selenium.webdriver.support.ui import WebDriverWait\n",
    "from selenium.webdriver.common.by import By\n",
    "from selenium.webdriver.support import expected_conditions as EC\n",
    "from bs4 import BeautifulSoup\n",
    "from webdriver_manager.chrome import ChromeDriverManager\n",
    "import pandas as pd\n",
    "import numpy as np\n",
    "import matplotlib.pyplot as plt\n",
    "import seaborn as sns\n",
    "\n",
    "service = executable_path=ChromeDriverManager().install()"
   ]
  },
  {
   "cell_type": "code",
   "execution_count": 2,
   "id": "d807b4d9",
   "metadata": {
    "ExecuteTime": {
     "end_time": "2022-12-03T16:54:58.598641Z",
     "start_time": "2022-12-03T16:54:58.580329Z"
    }
   },
   "outputs": [],
   "source": [
    "# Get corresponding URL\n",
    "## Issue: fixing url to filter country is not working. Need to manipulate selenium to click 'Korea' filter button\n",
    "\n",
    "def get_driver (category, page):\n",
    "    if page == '':\n",
    "        url = 'https://www.hktvmall.com/hktv/en/search_a?keyword=&category={}'.format(category)\n",
    "    else:\n",
    "        url = 'https://www.hktvmall.com/hktv/en/search_a?keyword=&category={}&page={}'.format(category, page)\n",
    "    driver = webdriver.Chrome(service)\n",
    "    driver.get(url)\n",
    "    return driver"
   ]
  },
  {
   "cell_type": "code",
   "execution_count": 3,
   "id": "439e6786",
   "metadata": {
    "ExecuteTime": {
     "end_time": "2022-12-03T16:54:58.620875Z",
     "start_time": "2022-12-03T16:54:58.602379Z"
    }
   },
   "outputs": [],
   "source": [
    "def count_data (description):\n",
    "    start = '('\n",
    "    end = 'items)'\n",
    "    return int(description[description.find(start)+len(start):description.rfind(end)])"
   ]
  },
  {
   "cell_type": "code",
   "execution_count": 4,
   "id": "4da8af70",
   "metadata": {
    "ExecuteTime": {
     "end_time": "2022-12-03T16:54:58.640707Z",
     "start_time": "2022-12-03T16:54:58.622934Z"
    }
   },
   "outputs": [],
   "source": [
    "def find_click (driver):\n",
    "    country_filter = driver.find_element(By.XPATH, \"/html/body/div[2]/div[2]/div/div/div/div/div[2]/div/div[2]/div[3]/ul\")\n",
    "    countries = country_filter.text.split(\"\\n\")\n",
    "        \n",
    "    pos = 0\n",
    "    for i in countries:\n",
    "        pos = pos + 1\n",
    "        if (i == 'Korea') or (i == 'Korean') or (i == 'KOREA') or (i == 'South Korea'):\n",
    "            pos = str(pos)\n",
    "            driver.find_element(By.XPATH, \"/html/body/div[2]/div[2]/div/div/div/div/div[2]/div/div[2]/div[3]/ul/li[\" + pos + \"]/label/input\").click()\n",
    "            break\n",
    "\n",
    "        # Wait until the page is loaded\n",
    "    pause = WebDriverWait(driver, 30).until(EC.presence_of_element_located((By.CLASS_NAME, \"searchFilterContainer_title\")))"
   ]
  },
  {
   "cell_type": "code",
   "execution_count": 5,
   "id": "0d3e4c6e",
   "metadata": {
    "ExecuteTime": {
     "end_time": "2022-12-03T16:54:58.670879Z",
     "start_time": "2022-12-03T16:54:58.640707Z"
    }
   },
   "outputs": [],
   "source": [
    "def get_category_data (category, df_category, idx):\n",
    "    \n",
    "    driver = get_driver(category, '')\n",
    "    html = driver.page_source\n",
    "    soup = BeautifulSoup(html, \"lxml\")\n",
    "\n",
    "    # Count total product\n",
    "        ## class = sortMenu-pagination\n",
    "        ## tag = span\n",
    "    description = driver.find_element(By.CLASS_NAME, \"sortMenu-pagination\").text.replace(\" \", \"\")\n",
    "    total_prod_num = count_data(description)\n",
    "    df_category.loc[idx, ['Total Product']] = total_prod_num\n",
    "\n",
    "    \n",
    "    # Count Korean product\n",
    "        # Find and click Korea in filter\n",
    "    find_click(driver)\n",
    "    \n",
    "        # Count\n",
    "    description = driver.find_element(By.CLASS_NAME, \"sortMenu-pagination\").text.replace(\" \", \"\")\n",
    "    total_ko_prod_num = count_data(description)\n",
    "    df_category.loc[idx, ['Korean Product']] = total_ko_prod_num\n",
    "    \n",
    "    \n",
    "    # Calculate Percentage\n",
    "    df_category.loc[idx, ['Percentage(%)']] = round((total_ko_prod_num/total_prod_num)*100, 2)\n",
    "    \n",
    "    return"
   ]
  },
  {
   "cell_type": "code",
   "execution_count": null,
   "id": "d2ea4d0e",
   "metadata": {
    "ExecuteTime": {
     "end_time": "2022-12-03T06:47:23.723697Z",
     "start_time": "2022-12-03T06:45:48.303611Z"
    }
   },
   "outputs": [],
   "source": [
    "category_list = ['supermarket', 'personalcarenhealth', 'beautynhealth', 'mothernbaby', 'pets', 'gadgetsandelectronics', 'homenfamily', 'housewares', 'deals', 'sportsntravel', 'toysnbooks', 'fashion']\n",
    "\n",
    "df_category = pd.DataFrame(columns=['Category','Total Product','Korean Product','Percentage(%)'])\n",
    "\n",
    "\n",
    "for idx in range(0, len(category_list)):\n",
    "    category = category_list[idx]\n",
    "    df_category.loc[idx, ['Category']] = category\n",
    "    get_category_data(category, df_category, idx)\n",
    "\n",
    "df_category"
   ]
  },
  {
   "cell_type": "code",
   "execution_count": null,
   "id": "bc54c514",
   "metadata": {
    "ExecuteTime": {
     "end_time": "2022-12-03T06:47:26.913758Z",
     "start_time": "2022-12-03T06:47:26.893079Z"
    }
   },
   "outputs": [],
   "source": [
    "df_category = df_category.sort_values(by=['Percentage(%)'], ascending=False, ignore_index=True)\n",
    "df_category"
   ]
  },
  {
   "cell_type": "code",
   "execution_count": null,
   "id": "c3b2357a",
   "metadata": {
    "ExecuteTime": {
     "end_time": "2022-12-03T06:47:39.772571Z",
     "start_time": "2022-12-03T06:47:39.713959Z"
    }
   },
   "outputs": [],
   "source": [
    "df_category.to_excel(\"C:/Users/USER/Desktop/Portfolio/HKTVmall/HKTVmall_category_data.xlsx\", index=False)"
   ]
  },
  {
   "cell_type": "markdown",
   "id": "dbb4b346",
   "metadata": {},
   "source": [
    "<b> Visualization"
   ]
  },
  {
   "cell_type": "code",
   "execution_count": 6,
   "id": "4ad80297",
   "metadata": {
    "ExecuteTime": {
     "end_time": "2022-12-03T16:55:02.395421Z",
     "start_time": "2022-12-03T16:55:00.279745Z"
    }
   },
   "outputs": [
    {
     "name": "stderr",
     "output_type": "stream",
     "text": [
      "[WDM] - Downloading: 100%|██████████| 6.58M/6.58M [00:03<00:00, 2.02MB/s]\n"
     ]
    }
   ],
   "source": [
    "df_category = pd.read_excel('C:/Users/USER/Desktop/Portfolio/HKTVmall/HKTVmall_category_data.xlsx')"
   ]
  },
  {
   "cell_type": "code",
   "execution_count": 7,
   "id": "a232a900",
   "metadata": {
    "ExecuteTime": {
     "end_time": "2022-12-03T16:55:06.315214Z",
     "start_time": "2022-12-03T16:55:05.383195Z"
    }
   },
   "outputs": [
    {
     "data": {
      "text/plain": [
       "Text(0.5, 1.0, 'Percentage of Korean Products by Category')"
      ]
     },
     "execution_count": 7,
     "metadata": {},
     "output_type": "execute_result"
    },
    {
     "data": {
      "image/png": "[encoded data removed]",
      "text/plain": [
       "<Figure size 1440x720 with 1 Axes>"
      ]
     },
     "metadata": {
      "needs_background": "light"
     },
     "output_type": "display_data"
    }
   ],
   "source": [
    "plt.figure (figsize = (20, 10))\n",
    "\n",
    "ax = sns.barplot(x = df_category['Category'], y = df_category['Percentage(%)'], data = df_category, palette = 'YlGnBu')\n",
    "\n",
    "for p in ax.patches:\n",
    "    height = p.get_height()\n",
    "    ax.text(p.get_x() + p.get_width() / 2., height + 0.2, height, ha = 'center', size = 9)\n",
    "\n",
    "plt.title('Percentage of Korean Products by Category', fontsize = 15)"
   ]
  },
  {
   "cell_type": "code",
   "execution_count": 8,
   "id": "6cf802ba",
   "metadata": {
    "ExecuteTime": {
     "end_time": "2022-12-03T16:55:06.374810Z",
     "start_time": "2022-12-03T16:55:06.315214Z"
    }
   },
   "outputs": [
    {
     "data": {
      "text/html": [
       "<div>\n",
       "<style scoped>\n",
       "    .dataframe tbody tr th:only-of-type {\n",
       "        vertical-align: middle;\n",
       "    }\n",
       "\n",
       "    .dataframe tbody tr th {\n",
       "        vertical-align: top;\n",
       "    }\n",
       "\n",
       "    .dataframe thead th {\n",
       "        text-align: right;\n",
       "    }\n",
       "</style>\n",
       "<table border=\"1\" class=\"dataframe\">\n",
       "  <thead>\n",
       "    <tr style=\"text-align: right;\">\n",
       "      <th></th>\n",
       "      <th>Category</th>\n",
       "      <th>Total Product</th>\n",
       "      <th>Korean Product</th>\n",
       "      <th>Percentage(%)</th>\n",
       "    </tr>\n",
       "  </thead>\n",
       "  <tbody>\n",
       "    <tr>\n",
       "      <th>0</th>\n",
       "      <td>beautynhealth</td>\n",
       "      <td>78467</td>\n",
       "      <td>10165</td>\n",
       "      <td>12.95</td>\n",
       "    </tr>\n",
       "    <tr>\n",
       "      <th>1</th>\n",
       "      <td>personalcarenhealth</td>\n",
       "      <td>116929</td>\n",
       "      <td>13831</td>\n",
       "      <td>11.83</td>\n",
       "    </tr>\n",
       "    <tr>\n",
       "      <th>2</th>\n",
       "      <td>supermarket</td>\n",
       "      <td>153392</td>\n",
       "      <td>13066</td>\n",
       "      <td>8.52</td>\n",
       "    </tr>\n",
       "    <tr>\n",
       "      <th>3</th>\n",
       "      <td>mothernbaby</td>\n",
       "      <td>59154</td>\n",
       "      <td>3577</td>\n",
       "      <td>6.05</td>\n",
       "    </tr>\n",
       "    <tr>\n",
       "      <th>4</th>\n",
       "      <td>housewares</td>\n",
       "      <td>68842</td>\n",
       "      <td>3588</td>\n",
       "      <td>5.21</td>\n",
       "    </tr>\n",
       "  </tbody>\n",
       "</table>\n",
       "</div>"
      ],
      "text/plain": [
       "              Category  Total Product  Korean Product  Percentage(%)\n",
       "0        beautynhealth          78467           10165          12.95\n",
       "1  personalcarenhealth         116929           13831          11.83\n",
       "2          supermarket         153392           13066           8.52\n",
       "3          mothernbaby          59154            3577           6.05\n",
       "4           housewares          68842            3588           5.21"
      ]
     },
     "execution_count": 8,
     "metadata": {},
     "output_type": "execute_result"
    }
   ],
   "source": [
    "df_category.head()"
   ]
  },
  {
   "cell_type": "code",
   "execution_count": 9,
   "id": "90885d3d",
   "metadata": {
    "ExecuteTime": {
     "end_time": "2022-12-03T16:55:06.453102Z",
     "start_time": "2022-12-03T16:55:06.414744Z"
    }
   },
   "outputs": [
    {
     "data": {
      "text/html": [
       "<div>\n",
       "<style scoped>\n",
       "    .dataframe tbody tr th:only-of-type {\n",
       "        vertical-align: middle;\n",
       "    }\n",
       "\n",
       "    .dataframe tbody tr th {\n",
       "        vertical-align: top;\n",
       "    }\n",
       "\n",
       "    .dataframe thead th {\n",
       "        text-align: right;\n",
       "    }\n",
       "</style>\n",
       "<table border=\"1\" class=\"dataframe\">\n",
       "  <thead>\n",
       "    <tr style=\"text-align: right;\">\n",
       "      <th></th>\n",
       "      <th>Category</th>\n",
       "      <th>Total Product</th>\n",
       "      <th>Korean Product</th>\n",
       "      <th>Percentage(%)</th>\n",
       "    </tr>\n",
       "  </thead>\n",
       "  <tbody>\n",
       "    <tr>\n",
       "      <th>7</th>\n",
       "      <td>fashion</td>\n",
       "      <td>79077</td>\n",
       "      <td>2272</td>\n",
       "      <td>2.87</td>\n",
       "    </tr>\n",
       "    <tr>\n",
       "      <th>8</th>\n",
       "      <td>homenfamily</td>\n",
       "      <td>56709</td>\n",
       "      <td>849</td>\n",
       "      <td>1.50</td>\n",
       "    </tr>\n",
       "    <tr>\n",
       "      <th>9</th>\n",
       "      <td>toysnbooks</td>\n",
       "      <td>64984</td>\n",
       "      <td>935</td>\n",
       "      <td>1.44</td>\n",
       "    </tr>\n",
       "    <tr>\n",
       "      <th>10</th>\n",
       "      <td>gadgetsandelectronics</td>\n",
       "      <td>96211</td>\n",
       "      <td>1033</td>\n",
       "      <td>1.07</td>\n",
       "    </tr>\n",
       "    <tr>\n",
       "      <th>11</th>\n",
       "      <td>sportsntravel</td>\n",
       "      <td>97889</td>\n",
       "      <td>972</td>\n",
       "      <td>0.99</td>\n",
       "    </tr>\n",
       "  </tbody>\n",
       "</table>\n",
       "</div>"
      ],
      "text/plain": [
       "                 Category  Total Product  Korean Product  Percentage(%)\n",
       "7                 fashion          79077            2272           2.87\n",
       "8             homenfamily          56709             849           1.50\n",
       "9              toysnbooks          64984             935           1.44\n",
       "10  gadgetsandelectronics          96211            1033           1.07\n",
       "11          sportsntravel          97889             972           0.99"
      ]
     },
     "execution_count": 9,
     "metadata": {},
     "output_type": "execute_result"
    }
   ],
   "source": [
    "df_category.tail()"
   ]
  },
  {
   "cell_type": "markdown",
   "id": "aec992bc",
   "metadata": {},
   "source": [
    "## 2. How Competitive Korean Products Are in HK?"
   ]
  },
  {
   "cell_type": "code",
   "execution_count": 10,
   "id": "aaee4158",
   "metadata": {
    "ExecuteTime": {
     "end_time": "2022-12-03T16:55:08.593687Z",
     "start_time": "2022-12-03T16:55:08.568924Z"
    },
    "scrolled": true
   },
   "outputs": [],
   "source": [
    "# Get product information\n",
    "def get_product_info (driver, df_beautyproducts):\n",
    "    id_list = []\n",
    "    brand_list = []\n",
    "    product_list = []\n",
    "    salesVol_list = []\n",
    "    price_list = []\n",
    "    \n",
    "    html = driver.page_source\n",
    "    soup = BeautifulSoup(html, \"lxml\")\n",
    "    \n",
    "    # unique id\n",
    "    ids = driver.find_elements(By.CLASS_NAME, \"product-brief\")\n",
    "    for id in ids:\n",
    "        if id == \"\": id = 0\n",
    "        else: id = id.get_attribute(\"data-id\")\n",
    "        id_list.append(id)\n",
    "    df_beautyproducts['Id'] = id_list\n",
    "    \n",
    "    # brand name and product name\n",
    "    names = driver.find_elements(By.CLASS_NAME, \"brand-product-name\")\n",
    "    for name in names:\n",
    "        name = name.text\n",
    "        if name == \"\": name = 0\n",
    "        else:\n",
    "            brandName = name[0:name.find('-')-1]\n",
    "            productName = name[name.find('-')+2:]\n",
    "        brand_list.append(brandName)\n",
    "        product_list.append(productName)\n",
    "    df_beautyproducts['Brand Name'] = brand_list\n",
    "    df_beautyproducts['Product Name'] = product_list\n",
    "    \n",
    "    # Sales volume\n",
    "    salesVol = driver.find_elements(By.CLASS_NAME, \"salesNumber-container\")\n",
    "    for sales in salesVol:\n",
    "        sales = sales.text.replace(\",\", \"\")\n",
    "        if sales != \"\":\n",
    "            sales = int(sales[0:sales.find('+')-1])\n",
    "        else:\n",
    "            sales = int('0')\n",
    "        salesVol_list.append(sales)\n",
    "    df_beautyproducts['Sales Volume'] = salesVol_list\n",
    "    \n",
    "    # Price\n",
    "    prices = driver.find_elements(By.CLASS_NAME, \"price\")\n",
    "    for price in prices:\n",
    "        price = float(price.text.replace(\" \", \"\").replace(\"$\", \"\").replace(\",\", \"\"))\n",
    "        price_list.append(price)\n",
    "    df_beautyproducts['Price'] = price_list\n",
    "    \n",
    "    return df_beautyproducts"
   ]
  },
  {
   "cell_type": "code",
   "execution_count": null,
   "id": "0be4ecb0",
   "metadata": {
    "ExecuteTime": {
     "end_time": "2022-12-03T06:48:06.771223Z",
     "start_time": "2022-12-03T06:48:03.710407Z"
    }
   },
   "outputs": [],
   "source": [
    "# Find all pages\n",
    "driver = get_driver('beautynhealth', '')\n",
    "pages = driver.find_elements(By.CLASS_NAME, \"paginationMenu_select\")\n",
    "for page in pages:\n",
    "    pageCnt = page.text.count('Pages')\n",
    "pageCnt"
   ]
  },
  {
   "cell_type": "code",
   "execution_count": null,
   "id": "cc5ebf06",
   "metadata": {
    "ExecuteTime": {
     "end_time": "2022-12-03T06:50:38.365438Z",
     "start_time": "2022-12-03T06:48:11.490627Z"
    }
   },
   "outputs": [],
   "source": [
    "# Iterate all pages\n",
    "temp = []\n",
    "for pageNum in range(0, pageCnt):\n",
    "    driver = get_driver('beautynhealth', pageNum)\n",
    "    df = pd.DataFrame()\n",
    "    df = get_product_info(driver, df)\n",
    "    temp.append(df)\n",
    "\n",
    "df_beautyproducts = pd.concat(temp)\n",
    "df_beautyproducts"
   ]
  },
  {
   "cell_type": "code",
   "execution_count": null,
   "id": "713b2d17",
   "metadata": {
    "ExecuteTime": {
     "end_time": "2022-12-03T06:52:34.590048Z",
     "start_time": "2022-12-03T06:52:34.381102Z"
    }
   },
   "outputs": [],
   "source": [
    "df_beautyproducts = df_beautyproducts.sort_values(by=['Sales Volume'], ascending=False, ignore_index=True)\n",
    "df_beautyproducts.to_excel(\"C:/Users/USER/Desktop/Portfolio/HKTVmall/HKTVmall_totalBeautyProductsInfo_data.xlsx\", index=False)"
   ]
  },
  {
   "cell_type": "code",
   "execution_count": 11,
   "id": "c74f1c5c",
   "metadata": {
    "ExecuteTime": {
     "end_time": "2022-12-03T16:55:13.531461Z",
     "start_time": "2022-12-03T16:55:12.986368Z"
    }
   },
   "outputs": [],
   "source": [
    "df_beautyproducts = pd.read_excel(\"C:/Users/USER/Desktop/Portfolio/HKTVmall/HKTVmall_totalBeautyProductsInfo_data.xlsx\")"
   ]
  },
  {
   "cell_type": "markdown",
   "id": "a211624a",
   "metadata": {},
   "source": [
    "<b> Check if each product is from Korea or not"
   ]
  },
  {
   "cell_type": "code",
   "execution_count": null,
   "id": "9c238a66",
   "metadata": {},
   "outputs": [],
   "source": [
    "# Click Korean filter\n",
    "korea_id_list = []\n",
    "\n",
    "# pageCnt\n",
    "driver = get_driver('beautynhealth', '')\n",
    "find_click(driver)\n",
    "pages = driver.find_element(By.XPATH, \"//*[@id='search-result-wrapper']/div/div[3]/div[4]/div/span\")\n",
    "pageCnt_ko = int(pages.text.replace(\"/\", \"\").replace(\" \", \"\").replace(\"Pages\", \"\")) \n",
    "pageCnt_ko"
   ]
  },
  {
   "cell_type": "code",
   "execution_count": null,
   "id": "2901ae81",
   "metadata": {
    "ExecuteTime": {
     "end_time": "2022-12-03T06:53:50.441720Z",
     "start_time": "2022-12-03T06:52:49.775702Z"
    }
   },
   "outputs": [],
   "source": [
    "driver = get_driver('beautynhealth', '')\n",
    "# Check Korea filter\n",
    "find_click(driver)\n",
    "current_url = driver.current_url\n",
    "\n",
    "for pageNum in range(0, pageCnt_ko):\n",
    "    try:\n",
    "        # Move to next page\n",
    "        changed_url = current_url + '&page={}'.format(pageNum+1)\n",
    "        driver.find_element(By.XPATH, \"//*[@id='sortMenu_next']\").click()\n",
    "        pause = WebDriverWait(driver, 3).until(EC.url_matches(changed_url))\n",
    "        ids = driver.find_elements(By.CLASS_NAME, \"product-brief\")\n",
    "        for id in ids:\n",
    "            if id == \"\": id = 0\n",
    "            else: id = id.get_attribute(\"data-id\")\n",
    "            korea_id_list.append(id)\n",
    "    except:\n",
    "        pass\n",
    "        \n",
    "len(korea_id_list)"
   ]
  },
  {
   "cell_type": "code",
   "execution_count": null,
   "id": "374f9629",
   "metadata": {
    "ExecuteTime": {
     "end_time": "2022-12-02T20:54:38.669160Z",
     "start_time": "2022-12-02T20:54:38.626634Z"
    }
   },
   "outputs": [],
   "source": [
    "isKorean = []\n",
    "for total in df_beautyproducts['Id']:\n",
    "    if total in korea_id_list:\n",
    "        isKorean.append('Korea')\n",
    "    else:\n",
    "        isKorean.append('NonKorea')\n",
    "        \n",
    "df_beautyproducts['isKorea'] = isKorean\n",
    "df_beautyproducts"
   ]
  },
  {
   "cell_type": "code",
   "execution_count": null,
   "id": "0807079f",
   "metadata": {
    "ExecuteTime": {
     "end_time": "2022-12-02T20:54:47.549896Z",
     "start_time": "2022-12-02T20:54:47.317660Z"
    }
   },
   "outputs": [],
   "source": [
    "# df_beautyproducts = df_beautyproducts.drop('isKorean', axis=1)\n",
    "# df_beautyproducts\n",
    "df_beautyproducts.to_excel(\"C:/Users/USER/Desktop/Portfolio/HKTVmall/HKTVmall_totalBeautyProductsInfo_data.xlsx\", index=False)"
   ]
  },
  {
   "cell_type": "code",
   "execution_count": 12,
   "id": "35a4e5d3",
   "metadata": {
    "ExecuteTime": {
     "end_time": "2022-12-03T16:55:19.680572Z",
     "start_time": "2022-12-03T16:55:19.202145Z"
    }
   },
   "outputs": [
    {
     "data": {
      "text/html": [
       "<div>\n",
       "<style scoped>\n",
       "    .dataframe tbody tr th:only-of-type {\n",
       "        vertical-align: middle;\n",
       "    }\n",
       "\n",
       "    .dataframe tbody tr th {\n",
       "        vertical-align: top;\n",
       "    }\n",
       "\n",
       "    .dataframe thead th {\n",
       "        text-align: right;\n",
       "    }\n",
       "</style>\n",
       "<table border=\"1\" class=\"dataframe\">\n",
       "  <thead>\n",
       "    <tr style=\"text-align: right;\">\n",
       "      <th></th>\n",
       "      <th>Id</th>\n",
       "      <th>Brand Name</th>\n",
       "      <th>Product Name</th>\n",
       "      <th>Sales Volume</th>\n",
       "      <th>Price</th>\n",
       "      <th>isKorea</th>\n",
       "    </tr>\n",
       "  </thead>\n",
       "  <tbody>\n",
       "    <tr>\n",
       "      <th>0</th>\n",
       "      <td>H6167001_S_9348107000488</td>\n",
       "      <td>Eaoron</td>\n",
       "      <td>Hyaluronic Acid Collagen Hydrating Face Mask 2...</td>\n",
       "      <td>10000</td>\n",
       "      <td>48.0</td>\n",
       "      <td>Korea</td>\n",
       "    </tr>\n",
       "    <tr>\n",
       "      <th>1</th>\n",
       "      <td>H1053001_S_Soflens-100</td>\n",
       "      <td>Bausch+Lomb</td>\n",
       "      <td>(BC 8.6) Soflens 1Day Contact Lens (P-1.00) (P...</td>\n",
       "      <td>10000</td>\n",
       "      <td>74.0</td>\n",
       "      <td>NonKorea</td>\n",
       "    </tr>\n",
       "    <tr>\n",
       "      <th>2</th>\n",
       "      <td>H5711001_S_MoistPI_reg_1day-85-100S</td>\n",
       "      <td>Acuvue</td>\n",
       "      <td>(BC 8.5) Acuvue Moist 1-Day Contact Lens (P -1...</td>\n",
       "      <td>10000</td>\n",
       "      <td>170.0</td>\n",
       "      <td>NonKorea</td>\n",
       "    </tr>\n",
       "    <tr>\n",
       "      <th>3</th>\n",
       "      <td>H5711001_S_MoistPI_reg_1day-90-100S</td>\n",
       "      <td>Acuvue</td>\n",
       "      <td>(BC 9.0) Acuvue Moist 1-Day Contact Lens (P -1...</td>\n",
       "      <td>7000</td>\n",
       "      <td>170.0</td>\n",
       "      <td>NonKorea</td>\n",
       "    </tr>\n",
       "    <tr>\n",
       "      <th>4</th>\n",
       "      <td>H5711001_S_Biomedics_ex_1day-86-100S</td>\n",
       "      <td>CooperVision</td>\n",
       "      <td>Biomedics 1 day Extra Contact Lens (BC 8.6, P ...</td>\n",
       "      <td>6000</td>\n",
       "      <td>105.0</td>\n",
       "      <td>NonKorea</td>\n",
       "    </tr>\n",
       "    <tr>\n",
       "      <th>...</th>\n",
       "      <td>...</td>\n",
       "      <td>...</td>\n",
       "      <td>...</td>\n",
       "      <td>...</td>\n",
       "      <td>...</td>\n",
       "      <td>...</td>\n",
       "    </tr>\n",
       "    <tr>\n",
       "      <th>995</th>\n",
       "      <td>P0088001_S_3614225415012</td>\n",
       "      <td>philosophy</td>\n",
       "      <td>ultimate miracle worker lip serum stick</td>\n",
       "      <td>1</td>\n",
       "      <td>180.0</td>\n",
       "      <td>Korea</td>\n",
       "    </tr>\n",
       "    <tr>\n",
       "      <th>996</th>\n",
       "      <td>P0088001_S_3614222736820</td>\n",
       "      <td>philosophy</td>\n",
       "      <td>time in a bottle 100% in-control resist renew ...</td>\n",
       "      <td>0</td>\n",
       "      <td>475.0</td>\n",
       "      <td>Korea</td>\n",
       "    </tr>\n",
       "    <tr>\n",
       "      <th>997</th>\n",
       "      <td>P0079001_S_830003A</td>\n",
       "      <td>CANVAS</td>\n",
       "      <td>Aromatic Cell Renewal Oil Set</td>\n",
       "      <td>0</td>\n",
       "      <td>3130.0</td>\n",
       "      <td>Korea</td>\n",
       "    </tr>\n",
       "    <tr>\n",
       "      <th>998</th>\n",
       "      <td>P0088001_S_3614224505585</td>\n",
       "      <td>philosophy</td>\n",
       "      <td>amazing grace ballet rose eau de toilette 60ml</td>\n",
       "      <td>0</td>\n",
       "      <td>410.0</td>\n",
       "      <td>Korea</td>\n",
       "    </tr>\n",
       "    <tr>\n",
       "      <th>999</th>\n",
       "      <td>H7517001_S_COC-6003</td>\n",
       "      <td>Cococare</td>\n",
       "      <td>Avocado Oil, 4 fl oz (118 ml)</td>\n",
       "      <td>0</td>\n",
       "      <td>108.0</td>\n",
       "      <td>Korea</td>\n",
       "    </tr>\n",
       "  </tbody>\n",
       "</table>\n",
       "<p>1000 rows × 6 columns</p>\n",
       "</div>"
      ],
      "text/plain": [
       "                                       Id    Brand Name  \\\n",
       "0                H6167001_S_9348107000488        Eaoron   \n",
       "1                  H1053001_S_Soflens-100   Bausch+Lomb   \n",
       "2     H5711001_S_MoistPI_reg_1day-85-100S        Acuvue   \n",
       "3     H5711001_S_MoistPI_reg_1day-90-100S        Acuvue   \n",
       "4    H5711001_S_Biomedics_ex_1day-86-100S  CooperVision   \n",
       "..                                    ...           ...   \n",
       "995              P0088001_S_3614225415012    philosophy   \n",
       "996              P0088001_S_3614222736820    philosophy   \n",
       "997                    P0079001_S_830003A        CANVAS   \n",
       "998              P0088001_S_3614224505585    philosophy   \n",
       "999                   H7517001_S_COC-6003      Cococare   \n",
       "\n",
       "                                          Product Name  Sales Volume   Price  \\\n",
       "0    Hyaluronic Acid Collagen Hydrating Face Mask 2...         10000    48.0   \n",
       "1    (BC 8.6) Soflens 1Day Contact Lens (P-1.00) (P...         10000    74.0   \n",
       "2    (BC 8.5) Acuvue Moist 1-Day Contact Lens (P -1...         10000   170.0   \n",
       "3    (BC 9.0) Acuvue Moist 1-Day Contact Lens (P -1...          7000   170.0   \n",
       "4    Biomedics 1 day Extra Contact Lens (BC 8.6, P ...          6000   105.0   \n",
       "..                                                 ...           ...     ...   \n",
       "995            ultimate miracle worker lip serum stick             1   180.0   \n",
       "996  time in a bottle 100% in-control resist renew ...             0   475.0   \n",
       "997                      Aromatic Cell Renewal Oil Set             0  3130.0   \n",
       "998     amazing grace ballet rose eau de toilette 60ml             0   410.0   \n",
       "999                      Avocado Oil, 4 fl oz (118 ml)             0   108.0   \n",
       "\n",
       "      isKorea  \n",
       "0       Korea  \n",
       "1    NonKorea  \n",
       "2    NonKorea  \n",
       "3    NonKorea  \n",
       "4    NonKorea  \n",
       "..        ...  \n",
       "995     Korea  \n",
       "996     Korea  \n",
       "997     Korea  \n",
       "998     Korea  \n",
       "999     Korea  \n",
       "\n",
       "[1000 rows x 6 columns]"
      ]
     },
     "execution_count": 12,
     "metadata": {},
     "output_type": "execute_result"
    }
   ],
   "source": [
    "df_beautyproducts = pd.read_excel(\"C:/Users/USER/Desktop/Portfolio/HKTVmall/HKTVmall_totalBeautyProductsInfo_data.xlsx\")\n",
    "df_beautyproducts"
   ]
  },
  {
   "cell_type": "markdown",
   "id": "23023116",
   "metadata": {},
   "source": [
    "<b> Get Popular Items"
   ]
  },
  {
   "cell_type": "code",
   "execution_count": 13,
   "id": "68fec384",
   "metadata": {
    "ExecuteTime": {
     "end_time": "2022-12-03T16:55:22.709953Z",
     "start_time": "2022-12-03T16:55:22.678826Z"
    }
   },
   "outputs": [
    {
     "data": {
      "text/html": [
       "<div>\n",
       "<style scoped>\n",
       "    .dataframe tbody tr th:only-of-type {\n",
       "        vertical-align: middle;\n",
       "    }\n",
       "\n",
       "    .dataframe tbody tr th {\n",
       "        vertical-align: top;\n",
       "    }\n",
       "\n",
       "    .dataframe thead th {\n",
       "        text-align: right;\n",
       "    }\n",
       "</style>\n",
       "<table border=\"1\" class=\"dataframe\">\n",
       "  <thead>\n",
       "    <tr style=\"text-align: right;\">\n",
       "      <th></th>\n",
       "      <th>Id</th>\n",
       "      <th>Brand Name</th>\n",
       "      <th>Product Name</th>\n",
       "      <th>Sales Volume</th>\n",
       "      <th>Price</th>\n",
       "      <th>isKorea</th>\n",
       "    </tr>\n",
       "  </thead>\n",
       "  <tbody>\n",
       "    <tr>\n",
       "      <th>0</th>\n",
       "      <td>H6167001_S_9348107000488</td>\n",
       "      <td>Eaoron</td>\n",
       "      <td>Hyaluronic Acid Collagen Hydrating Face Mask 2...</td>\n",
       "      <td>10000</td>\n",
       "      <td>48.0</td>\n",
       "      <td>Korea</td>\n",
       "    </tr>\n",
       "    <tr>\n",
       "      <th>1</th>\n",
       "      <td>H1053001_S_Soflens-100</td>\n",
       "      <td>Bausch+Lomb</td>\n",
       "      <td>(BC 8.6) Soflens 1Day Contact Lens (P-1.00) (P...</td>\n",
       "      <td>10000</td>\n",
       "      <td>74.0</td>\n",
       "      <td>NonKorea</td>\n",
       "    </tr>\n",
       "    <tr>\n",
       "      <th>2</th>\n",
       "      <td>H5711001_S_MoistPI_reg_1day-85-100S</td>\n",
       "      <td>Acuvue</td>\n",
       "      <td>(BC 8.5) Acuvue Moist 1-Day Contact Lens (P -1...</td>\n",
       "      <td>10000</td>\n",
       "      <td>170.0</td>\n",
       "      <td>NonKorea</td>\n",
       "    </tr>\n",
       "    <tr>\n",
       "      <th>3</th>\n",
       "      <td>H5711001_S_MoistPI_reg_1day-90-100S</td>\n",
       "      <td>Acuvue</td>\n",
       "      <td>(BC 9.0) Acuvue Moist 1-Day Contact Lens (P -1...</td>\n",
       "      <td>7000</td>\n",
       "      <td>170.0</td>\n",
       "      <td>NonKorea</td>\n",
       "    </tr>\n",
       "    <tr>\n",
       "      <th>4</th>\n",
       "      <td>H5711001_S_Biomedics_ex_1day-86-100S</td>\n",
       "      <td>CooperVision</td>\n",
       "      <td>Biomedics 1 day Extra Contact Lens (BC 8.6, P ...</td>\n",
       "      <td>6000</td>\n",
       "      <td>105.0</td>\n",
       "      <td>NonKorea</td>\n",
       "    </tr>\n",
       "    <tr>\n",
       "      <th>...</th>\n",
       "      <td>...</td>\n",
       "      <td>...</td>\n",
       "      <td>...</td>\n",
       "      <td>...</td>\n",
       "      <td>...</td>\n",
       "      <td>...</td>\n",
       "    </tr>\n",
       "    <tr>\n",
       "      <th>95</th>\n",
       "      <td>H0956007_S_LT10008661</td>\n",
       "      <td>moritachicosme</td>\n",
       "      <td>Dispoable Face Towel（80/Sheet）（Parallel Import）</td>\n",
       "      <td>600</td>\n",
       "      <td>49.0</td>\n",
       "      <td>NonKorea</td>\n",
       "    </tr>\n",
       "    <tr>\n",
       "      <th>96</th>\n",
       "      <td>H0888001_S_10030252</td>\n",
       "      <td>Gillette</td>\n",
       "      <td>Gillette Menthol Foamy 210g</td>\n",
       "      <td>600</td>\n",
       "      <td>34.9</td>\n",
       "      <td>NonKorea</td>\n",
       "    </tr>\n",
       "    <tr>\n",
       "      <th>97</th>\n",
       "      <td>P0038001_S_SD3337875597333</td>\n",
       "      <td>CeraVe</td>\n",
       "      <td>HYDRATING CLEANSER 473ml</td>\n",
       "      <td>600</td>\n",
       "      <td>139.0</td>\n",
       "      <td>NonKorea</td>\n",
       "    </tr>\n",
       "    <tr>\n",
       "      <th>98</th>\n",
       "      <td>H5236001_S_CLS-T-86_X3</td>\n",
       "      <td>DR.BSC</td>\n",
       "      <td>【★3pcs★】8X Silk+Hyaluronic Acid Moisturizing T...</td>\n",
       "      <td>600</td>\n",
       "      <td>139.0</td>\n",
       "      <td>Korea</td>\n",
       "    </tr>\n",
       "    <tr>\n",
       "      <th>99</th>\n",
       "      <td>H0967001_S_SD4580044191019</td>\n",
       "      <td>HERY</td>\n",
       "      <td>HERY Nkb Zero Acne Removal Essence 29ml (19100...</td>\n",
       "      <td>600</td>\n",
       "      <td>268.0</td>\n",
       "      <td>Korea</td>\n",
       "    </tr>\n",
       "  </tbody>\n",
       "</table>\n",
       "<p>100 rows × 6 columns</p>\n",
       "</div>"
      ],
      "text/plain": [
       "                                      Id      Brand Name  \\\n",
       "0               H6167001_S_9348107000488          Eaoron   \n",
       "1                 H1053001_S_Soflens-100     Bausch+Lomb   \n",
       "2    H5711001_S_MoistPI_reg_1day-85-100S          Acuvue   \n",
       "3    H5711001_S_MoistPI_reg_1day-90-100S          Acuvue   \n",
       "4   H5711001_S_Biomedics_ex_1day-86-100S    CooperVision   \n",
       "..                                   ...             ...   \n",
       "95                 H0956007_S_LT10008661  moritachicosme   \n",
       "96                   H0888001_S_10030252        Gillette   \n",
       "97            P0038001_S_SD3337875597333          CeraVe   \n",
       "98                H5236001_S_CLS-T-86_X3          DR.BSC   \n",
       "99            H0967001_S_SD4580044191019            HERY   \n",
       "\n",
       "                                         Product Name  Sales Volume  Price  \\\n",
       "0   Hyaluronic Acid Collagen Hydrating Face Mask 2...         10000   48.0   \n",
       "1   (BC 8.6) Soflens 1Day Contact Lens (P-1.00) (P...         10000   74.0   \n",
       "2   (BC 8.5) Acuvue Moist 1-Day Contact Lens (P -1...         10000  170.0   \n",
       "3   (BC 9.0) Acuvue Moist 1-Day Contact Lens (P -1...          7000  170.0   \n",
       "4   Biomedics 1 day Extra Contact Lens (BC 8.6, P ...          6000  105.0   \n",
       "..                                                ...           ...    ...   \n",
       "95    Dispoable Face Towel（80/Sheet）（Parallel Import）           600   49.0   \n",
       "96                        Gillette Menthol Foamy 210g           600   34.9   \n",
       "97                           HYDRATING CLEANSER 473ml           600  139.0   \n",
       "98  【★3pcs★】8X Silk+Hyaluronic Acid Moisturizing T...           600  139.0   \n",
       "99  HERY Nkb Zero Acne Removal Essence 29ml (19100...           600  268.0   \n",
       "\n",
       "     isKorea  \n",
       "0      Korea  \n",
       "1   NonKorea  \n",
       "2   NonKorea  \n",
       "3   NonKorea  \n",
       "4   NonKorea  \n",
       "..       ...  \n",
       "95  NonKorea  \n",
       "96  NonKorea  \n",
       "97  NonKorea  \n",
       "98     Korea  \n",
       "99     Korea  \n",
       "\n",
       "[100 rows x 6 columns]"
      ]
     },
     "execution_count": 13,
     "metadata": {},
     "output_type": "execute_result"
    }
   ],
   "source": [
    "df_top_beautyproducts = df_beautyproducts.head(100)\n",
    "df_top_beautyproducts"
   ]
  },
  {
   "cell_type": "code",
   "execution_count": 14,
   "id": "352f4c82",
   "metadata": {
    "ExecuteTime": {
     "end_time": "2022-12-03T16:55:25.083572Z",
     "start_time": "2022-12-03T16:55:25.062046Z"
    }
   },
   "outputs": [
    {
     "data": {
      "text/plain": [
       "28"
      ]
     },
     "execution_count": 14,
     "metadata": {},
     "output_type": "execute_result"
    }
   ],
   "source": [
    "# count Korea product\n",
    "KoreaBeautyCnt = len(df_top_beautyproducts[df_top_beautyproducts['isKorea']=='Korea'])\n",
    "KoreaBeautyCnt"
   ]
  },
  {
   "cell_type": "code",
   "execution_count": 15,
   "id": "2f44a05e",
   "metadata": {
    "ExecuteTime": {
     "end_time": "2022-12-03T16:55:26.898640Z",
     "start_time": "2022-12-03T16:55:26.885032Z"
    }
   },
   "outputs": [
    {
     "name": "stdout",
     "output_type": "stream",
     "text": [
      "In Beauty category, Korean products take up 28.0% of top 100 popular products\n"
     ]
    }
   ],
   "source": [
    "print('In Beauty category, Korean products take up ' + '{}% of top 100 popular products'.format(round(KoreaBeautyCnt/100 * 100, 2)))"
   ]
  },
  {
   "cell_type": "code",
   "execution_count": 16,
   "id": "26e01f37",
   "metadata": {
    "ExecuteTime": {
     "end_time": "2022-12-03T16:55:30.267028Z",
     "start_time": "2022-12-03T16:55:29.725687Z"
    }
   },
   "outputs": [
    {
     "data": {
      "text/plain": [
       "Text(0.5, 1.0, 'Beauty Category: Korea vs Non Korea (Popular Count)')"
      ]
     },
     "execution_count": 16,
     "metadata": {},
     "output_type": "execute_result"
    },
    {
     "data": {
      "image/png": "[encoded data removed]",
      "text/plain": [
       "<Figure size 1440x720 with 2 Axes>"
      ]
     },
     "metadata": {},
     "output_type": "display_data"
    }
   ],
   "source": [
    "fig, axs = plt.subplots(1, 2, figsize=(20, 10))\n",
    "\n",
    "colors = colors = ['#eff4c8', '#335b95']\n",
    "\n",
    "values1 = df_beautyproducts['isKorea'].value_counts()\n",
    "axs[0].pie(values1, labels = values1.index, autopct = '%.2f', colors = colors)\n",
    "axs[0].set_title('Beauty Category: Korea vs Non Korea (Total Count)')\n",
    "\n",
    "values2 = df_top_beautyproducts['isKorea'].value_counts()\n",
    "axs[1].pie(values2, labels = values2.index, autopct = '%.2f', colors = colors)\n",
    "axs[1].set_title('Beauty Category: Korea vs Non Korea (Popular Count)')"
   ]
  },
  {
   "cell_type": "code",
   "execution_count": 17,
   "id": "840f6177",
   "metadata": {
    "ExecuteTime": {
     "end_time": "2022-12-03T16:55:32.411940Z",
     "start_time": "2022-12-03T16:55:32.301543Z"
    }
   },
   "outputs": [
    {
     "data": {
      "text/html": [
       "<div>\n",
       "<style scoped>\n",
       "    .dataframe tbody tr th:only-of-type {\n",
       "        vertical-align: middle;\n",
       "    }\n",
       "\n",
       "    .dataframe tbody tr th {\n",
       "        vertical-align: top;\n",
       "    }\n",
       "\n",
       "    .dataframe thead th {\n",
       "        text-align: right;\n",
       "    }\n",
       "</style>\n",
       "<table border=\"1\" class=\"dataframe\">\n",
       "  <thead>\n",
       "    <tr style=\"text-align: right;\">\n",
       "      <th></th>\n",
       "      <th>Sales Volume</th>\n",
       "      <th>Sales Percentage</th>\n",
       "    </tr>\n",
       "    <tr>\n",
       "      <th>isKorea</th>\n",
       "      <th></th>\n",
       "      <th></th>\n",
       "    </tr>\n",
       "  </thead>\n",
       "  <tbody>\n",
       "    <tr>\n",
       "      <th>Korea</th>\n",
       "      <td>47249</td>\n",
       "      <td>17.23</td>\n",
       "    </tr>\n",
       "    <tr>\n",
       "      <th>NonKorea</th>\n",
       "      <td>226971</td>\n",
       "      <td>82.77</td>\n",
       "    </tr>\n",
       "  </tbody>\n",
       "</table>\n",
       "</div>"
      ],
      "text/plain": [
       "          Sales Volume  Sales Percentage\n",
       "isKorea                                 \n",
       "Korea            47249             17.23\n",
       "NonKorea        226971             82.77"
      ]
     },
     "execution_count": 17,
     "metadata": {},
     "output_type": "execute_result"
    }
   ],
   "source": [
    "df_pivot_total = df_beautyproducts.pivot_table(index = 'isKorea', values = 'Sales Volume', aggfunc= 'sum')\n",
    "total = df_pivot_total['Sales Volume'].sum()\n",
    "korea = df_pivot_total.iloc[0]['Sales Volume']\n",
    "nonkorea = df_pivot_total.iloc[1]['Sales Volume']\n",
    "df_pivot_total['Sales Percentage'] = [round(korea/total*100, 2), round(nonkorea/total*100, 2)]\n",
    "df_pivot_total"
   ]
  },
  {
   "cell_type": "code",
   "execution_count": 18,
   "id": "8aff9a91",
   "metadata": {
    "ExecuteTime": {
     "end_time": "2022-12-03T16:55:32.549251Z",
     "start_time": "2022-12-03T16:55:32.508879Z"
    }
   },
   "outputs": [
    {
     "data": {
      "text/html": [
       "<div>\n",
       "<style scoped>\n",
       "    .dataframe tbody tr th:only-of-type {\n",
       "        vertical-align: middle;\n",
       "    }\n",
       "\n",
       "    .dataframe tbody tr th {\n",
       "        vertical-align: top;\n",
       "    }\n",
       "\n",
       "    .dataframe thead th {\n",
       "        text-align: right;\n",
       "    }\n",
       "</style>\n",
       "<table border=\"1\" class=\"dataframe\">\n",
       "  <thead>\n",
       "    <tr style=\"text-align: right;\">\n",
       "      <th></th>\n",
       "      <th>Sales Volume</th>\n",
       "      <th>Sales Percentage</th>\n",
       "    </tr>\n",
       "    <tr>\n",
       "      <th>isKorea</th>\n",
       "      <th></th>\n",
       "      <th></th>\n",
       "    </tr>\n",
       "  </thead>\n",
       "  <tbody>\n",
       "    <tr>\n",
       "      <th>Korea</th>\n",
       "      <td>35500</td>\n",
       "      <td>23.76</td>\n",
       "    </tr>\n",
       "    <tr>\n",
       "      <th>NonKorea</th>\n",
       "      <td>113900</td>\n",
       "      <td>76.24</td>\n",
       "    </tr>\n",
       "  </tbody>\n",
       "</table>\n",
       "</div>"
      ],
      "text/plain": [
       "          Sales Volume  Sales Percentage\n",
       "isKorea                                 \n",
       "Korea            35500             23.76\n",
       "NonKorea        113900             76.24"
      ]
     },
     "execution_count": 18,
     "metadata": {},
     "output_type": "execute_result"
    }
   ],
   "source": [
    "df_pivot_popular = df_top_beautyproducts.pivot_table(index = 'isKorea', values = 'Sales Volume', aggfunc= 'sum')\n",
    "total = df_pivot_popular['Sales Volume'].sum()\n",
    "korea = df_pivot_popular.iloc[0]['Sales Volume']\n",
    "nonkorea = df_pivot_popular.iloc[1]['Sales Volume']\n",
    "df_pivot_popular['Sales Percentage'] = [round(korea/total*100, 2), round(nonkorea/total*100, 2)]\n",
    "df_pivot_popular"
   ]
  },
  {
   "cell_type": "code",
   "execution_count": 19,
   "id": "fc27f90e",
   "metadata": {
    "ExecuteTime": {
     "end_time": "2022-12-03T16:55:33.262693Z",
     "start_time": "2022-12-03T16:55:32.706320Z"
    }
   },
   "outputs": [
    {
     "data": {
      "text/plain": [
       "Text(0.5, 1.0, 'Beauty Category: Korea vs Non Korea (Popular Sales Volume)')"
      ]
     },
     "execution_count": 19,
     "metadata": {},
     "output_type": "execute_result"
    },
    {
     "data": {
      "image/png": "[encoded data removed]",
      "text/plain": [
       "<Figure size 1440x720 with 2 Axes>"
      ]
     },
     "metadata": {},
     "output_type": "display_data"
    }
   ],
   "source": [
    "fig, axs = plt.subplots(1, 2, figsize=(20, 10))\n",
    "\n",
    "colors = colors = ['#335b95', '#eff4c8']\n",
    "\n",
    "axs[0].pie(df_pivot_total['Sales Volume'], labels = df_pivot_total.index, colors = colors, autopct = '%.2f')\n",
    "axs[0].set_title('Beauty Category: Korea vs Non Korea (Total Sales Volume)')\n",
    "\n",
    "axs[1].pie(df_pivot_popular['Sales Volume'], labels = df_pivot_popular.index, colors = colors, autopct = '%.2f')\n",
    "axs[1].set_title('Beauty Category: Korea vs Non Korea (Popular Sales Volume)')"
   ]
  },
  {
   "cell_type": "markdown",
   "id": "4eb85318",
   "metadata": {},
   "source": [
    "# Market Positioning"
   ]
  },
  {
   "cell_type": "markdown",
   "id": "4a130603",
   "metadata": {
    "ExecuteTime": {
     "end_time": "2022-12-03T09:44:42.752387Z",
     "start_time": "2022-12-03T09:44:42.712884Z"
    }
   },
   "source": [
    "- df_korea: only Korean products in total beauty category\n",
    "- df_nonkorea: only Non-Korean products in total beauty category"
   ]
  },
  {
   "cell_type": "markdown",
   "id": "ae11c79b",
   "metadata": {},
   "source": [
    "<b> Remove outliers in df_beautyproducts"
   ]
  },
  {
   "cell_type": "code",
   "execution_count": 20,
   "id": "5bcec01a",
   "metadata": {
    "ExecuteTime": {
     "end_time": "2022-12-03T16:55:36.504325Z",
     "start_time": "2022-12-03T16:55:36.087608Z"
    }
   },
   "outputs": [],
   "source": [
    "df_beautyproducts = pd.read_excel(\"C:/Users/USER/Desktop/Portfolio/HKTVmall/HKTVmall_totalBeautyProductsInfo_data.xlsx\")"
   ]
  },
  {
   "cell_type": "code",
   "execution_count": 21,
   "id": "80c97056",
   "metadata": {
    "ExecuteTime": {
     "end_time": "2022-12-03T16:55:37.232143Z",
     "start_time": "2022-12-03T16:55:36.914651Z"
    }
   },
   "outputs": [
    {
     "name": "stderr",
     "output_type": "stream",
     "text": [
      "C:\\ProgramData\\Anaconda3\\lib\\site-packages\\seaborn\\_decorators.py:36: FutureWarning: Pass the following variable as a keyword arg: x. From version 0.12, the only valid positional argument will be `data`, and passing other arguments without an explicit keyword will result in an error or misinterpretation.\n",
      "  warnings.warn(\n"
     ]
    },
    {
     "data": {
      "text/plain": [
       "<AxesSubplot:xlabel='Price'>"
      ]
     },
     "execution_count": 21,
     "metadata": {},
     "output_type": "execute_result"
    },
    {
     "data": {
      "image/png": "[encoded data removed]",
      "text/plain": [
       "<Figure size 432x288 with 1 Axes>"
      ]
     },
     "metadata": {
      "needs_background": "light"
     },
     "output_type": "display_data"
    }
   ],
   "source": [
    "# Remove price outliers in df_beautyproducts\n",
    "sns.boxplot(df_beautyproducts['Price'], color='#eff4c8')"
   ]
  },
  {
   "cell_type": "code",
   "execution_count": 22,
   "id": "9ba0400b",
   "metadata": {
    "ExecuteTime": {
     "end_time": "2022-12-03T16:55:37.572356Z",
     "start_time": "2022-12-03T16:55:37.236356Z"
    }
   },
   "outputs": [
    {
     "name": "stderr",
     "output_type": "stream",
     "text": [
      "C:\\ProgramData\\Anaconda3\\lib\\site-packages\\seaborn\\_decorators.py:36: FutureWarning: Pass the following variable as a keyword arg: x. From version 0.12, the only valid positional argument will be `data`, and passing other arguments without an explicit keyword will result in an error or misinterpretation.\n",
      "  warnings.warn(\n"
     ]
    },
    {
     "data": {
      "text/plain": [
       "<AxesSubplot:xlabel='Price'>"
      ]
     },
     "execution_count": 22,
     "metadata": {},
     "output_type": "execute_result"
    },
    {
     "data": {
      "image/png": "[encoded data removed]",
      "text/plain": [
       "<Figure size 432x288 with 1 Axes>"
      ]
     },
     "metadata": {
      "needs_background": "light"
     },
     "output_type": "display_data"
    }
   ],
   "source": [
    "upper_limit = df_beautyproducts['Price'].quantile(0.75)\n",
    "lower_limit = df_beautyproducts['Price'].quantile(0.25)\n",
    "df_new_beautyproducts = df_beautyproducts[(df_beautyproducts['Price'] <= upper_limit) & (df_beautyproducts['Price'] >= lower_limit)]\n",
    "sns.boxplot(df_new_beautyproducts['Price'])"
   ]
  },
  {
   "cell_type": "code",
   "execution_count": 23,
   "id": "f443537f",
   "metadata": {
    "ExecuteTime": {
     "end_time": "2022-12-03T16:55:38.965450Z",
     "start_time": "2022-12-03T16:55:38.948238Z"
    }
   },
   "outputs": [
    {
     "data": {
      "text/plain": [
       "(507, 6)"
      ]
     },
     "execution_count": 23,
     "metadata": {},
     "output_type": "execute_result"
    }
   ],
   "source": [
    "df_new_beautyproducts.shape"
   ]
  },
  {
   "cell_type": "code",
   "execution_count": 24,
   "id": "25b523b6",
   "metadata": {
    "ExecuteTime": {
     "end_time": "2022-12-03T16:55:39.705029Z",
     "start_time": "2022-12-03T16:55:39.175445Z"
    }
   },
   "outputs": [],
   "source": [
    "df_new_beautyproducts.to_excel(\"C:/Users/USER/Desktop/Portfolio/HKTVmall/HKTVmall_totalBeautyProductsInfo_noOutlier_data.xlsx\", index=False)"
   ]
  },
  {
   "cell_type": "code",
   "execution_count": 25,
   "id": "2e9e3450",
   "metadata": {
    "ExecuteTime": {
     "end_time": "2022-12-03T16:55:40.002578Z",
     "start_time": "2022-12-03T16:55:39.705029Z"
    }
   },
   "outputs": [
    {
     "data": {
      "text/html": [
       "<div>\n",
       "<style scoped>\n",
       "    .dataframe tbody tr th:only-of-type {\n",
       "        vertical-align: middle;\n",
       "    }\n",
       "\n",
       "    .dataframe tbody tr th {\n",
       "        vertical-align: top;\n",
       "    }\n",
       "\n",
       "    .dataframe thead th {\n",
       "        text-align: right;\n",
       "    }\n",
       "</style>\n",
       "<table border=\"1\" class=\"dataframe\">\n",
       "  <thead>\n",
       "    <tr style=\"text-align: right;\">\n",
       "      <th></th>\n",
       "      <th>Id</th>\n",
       "      <th>Brand Name</th>\n",
       "      <th>Product Name</th>\n",
       "      <th>Sales Volume</th>\n",
       "      <th>Price</th>\n",
       "      <th>isKorea</th>\n",
       "    </tr>\n",
       "  </thead>\n",
       "  <tbody>\n",
       "    <tr>\n",
       "      <th>0</th>\n",
       "      <td>H5711001_S_MoistPI_reg_1day-85-100S</td>\n",
       "      <td>Acuvue</td>\n",
       "      <td>(BC 8.5) Acuvue Moist 1-Day Contact Lens (P -1...</td>\n",
       "      <td>10000</td>\n",
       "      <td>170.0</td>\n",
       "      <td>NonKorea</td>\n",
       "    </tr>\n",
       "    <tr>\n",
       "      <th>1</th>\n",
       "      <td>H5711001_S_MoistPI_reg_1day-90-100S</td>\n",
       "      <td>Acuvue</td>\n",
       "      <td>(BC 9.0) Acuvue Moist 1-Day Contact Lens (P -1...</td>\n",
       "      <td>7000</td>\n",
       "      <td>170.0</td>\n",
       "      <td>NonKorea</td>\n",
       "    </tr>\n",
       "    <tr>\n",
       "      <th>2</th>\n",
       "      <td>H5711001_S_Biomedics_ex_1day-86-100S</td>\n",
       "      <td>CooperVision</td>\n",
       "      <td>Biomedics 1 day Extra Contact Lens (BC 8.6, P ...</td>\n",
       "      <td>6000</td>\n",
       "      <td>105.0</td>\n",
       "      <td>NonKorea</td>\n",
       "    </tr>\n",
       "    <tr>\n",
       "      <th>3</th>\n",
       "      <td>H5711001_S_Total1_reg_1day-85-100S</td>\n",
       "      <td>Alcon</td>\n",
       "      <td>DAILIES TOTAL 1 Silicone Hydrogel 1-Day Contac...</td>\n",
       "      <td>4000</td>\n",
       "      <td>205.0</td>\n",
       "      <td>NonKorea</td>\n",
       "    </tr>\n",
       "    <tr>\n",
       "      <th>4</th>\n",
       "      <td>H5711001_S_OasysPI_reg_2week-88-100S</td>\n",
       "      <td>Acuvue</td>\n",
       "      <td>(BC 8.8) Acuvue Oasys 2-Week Contact Lens (P -...</td>\n",
       "      <td>4000</td>\n",
       "      <td>180.0</td>\n",
       "      <td>NonKorea</td>\n",
       "    </tr>\n",
       "  </tbody>\n",
       "</table>\n",
       "</div>"
      ],
      "text/plain": [
       "                                     Id    Brand Name  \\\n",
       "0   H5711001_S_MoistPI_reg_1day-85-100S        Acuvue   \n",
       "1   H5711001_S_MoistPI_reg_1day-90-100S        Acuvue   \n",
       "2  H5711001_S_Biomedics_ex_1day-86-100S  CooperVision   \n",
       "3    H5711001_S_Total1_reg_1day-85-100S         Alcon   \n",
       "4  H5711001_S_OasysPI_reg_2week-88-100S        Acuvue   \n",
       "\n",
       "                                        Product Name  Sales Volume  Price  \\\n",
       "0  (BC 8.5) Acuvue Moist 1-Day Contact Lens (P -1...         10000  170.0   \n",
       "1  (BC 9.0) Acuvue Moist 1-Day Contact Lens (P -1...          7000  170.0   \n",
       "2  Biomedics 1 day Extra Contact Lens (BC 8.6, P ...          6000  105.0   \n",
       "3  DAILIES TOTAL 1 Silicone Hydrogel 1-Day Contac...          4000  205.0   \n",
       "4  (BC 8.8) Acuvue Oasys 2-Week Contact Lens (P -...          4000  180.0   \n",
       "\n",
       "    isKorea  \n",
       "0  NonKorea  \n",
       "1  NonKorea  \n",
       "2  NonKorea  \n",
       "3  NonKorea  \n",
       "4  NonKorea  "
      ]
     },
     "execution_count": 25,
     "metadata": {},
     "output_type": "execute_result"
    }
   ],
   "source": [
    "df_new = pd.read_excel(\"C:/Users/USER/Desktop/Portfolio/HKTVmall/HKTVmall_totalBeautyProductsInfo_noOutlier_data.xlsx\")\n",
    "df_new.head()"
   ]
  },
  {
   "cell_type": "markdown",
   "id": "b87d9ad7",
   "metadata": {},
   "source": [
    "<b> Add Japanese Data"
   ]
  },
  {
   "cell_type": "code",
   "execution_count": 26,
   "id": "d2de92a7",
   "metadata": {
    "ExecuteTime": {
     "end_time": "2022-12-03T16:56:07.705408Z",
     "start_time": "2022-12-03T16:56:07.688143Z"
    }
   },
   "outputs": [],
   "source": [
    "def find_japan_click (driver):\n",
    "    country_filter = driver.find_element(By.XPATH, \"//*[@id='countryOfOrigin-selector']\")\n",
    "    countries = country_filter.text.split(\"\\n\")\n",
    "        \n",
    "    pos = 0\n",
    "    for i in countries:\n",
    "        pos = pos + 1\n",
    "        if (i == 'Japan') or (i == 'JAPAN') or (i == 'japan'):\n",
    "            pos = str(pos)\n",
    "            driver.find_element(By.XPATH, \"/html/body/div[2]/div[2]/div/div/div/div/div[2]/div/div[2]/div[3]/ul/li[\" + pos + \"]/label/input\").click()\n",
    "            break\n",
    "\n",
    "        # Wait until the page is loaded\n",
    "    pause = WebDriverWait(driver, 30).until(EC.presence_of_element_located((By.CLASS_NAME, \"searchFilterContainer_title\")))"
   ]
  },
  {
   "cell_type": "code",
   "execution_count": null,
   "id": "e126b780",
   "metadata": {
    "ExecuteTime": {
     "end_time": "2022-12-03T11:20:25.108054Z",
     "start_time": "2022-12-03T11:20:21.542653Z"
    }
   },
   "outputs": [],
   "source": [
    "# pageCnt_jp\n",
    "driver = get_driver('beautynhealth', '')\n",
    "find_japan_click(driver)\n",
    "pages = driver.find_element(By.XPATH, \"//*[@id='search-result-wrapper']/div/div[3]/div[4]/div/span\")\n",
    "pageCnt_jp = int(pages.text.replace(\"/\", \"\").replace(\" \", \"\").replace(\"Pages\", \"\")) \n",
    "pageCnt_jp"
   ]
  },
  {
   "cell_type": "code",
   "execution_count": null,
   "id": "ad75ca04",
   "metadata": {
    "ExecuteTime": {
     "end_time": "2022-12-03T11:37:30.359559Z",
     "start_time": "2022-12-03T11:37:21.548872Z"
    }
   },
   "outputs": [],
   "source": [
    "driver = get_driver('beautynhealth', '')\n",
    "# Check Japan filter\n",
    "find_japan_click(driver)\n",
    "current_url = driver.current_url\n",
    "japan_id_list = []\n",
    "\n",
    "for pageNum in range(0, pageCnt_jp):\n",
    "    try:\n",
    "        # Move to next page\n",
    "        changed_url = current_url + '&page={}'.format(pageNum+1)\n",
    "        driver.find_element(By.XPATH, \"//*[@id='sortMenu_next']\").click()\n",
    "        pause = WebDriverWait(driver, 3).until(EC.url_matches(changed_url))\n",
    "        ids = driver.find_elements(By.CLASS_NAME, \"product-brief\")\n",
    "        for id in ids:\n",
    "            id = id.get_attribute(\"data-id\")\n",
    "            japan_id_list.append(id)\n",
    "    except:\n",
    "        pass\n",
    "        \n",
    "len(japan_id_list)"
   ]
  },
  {
   "cell_type": "code",
   "execution_count": null,
   "id": "e127b5ba",
   "metadata": {
    "ExecuteTime": {
     "end_time": "2022-12-03T12:19:11.070465Z",
     "start_time": "2022-12-03T12:19:11.003240Z"
    }
   },
   "outputs": [],
   "source": [
    "isJapan = []\n",
    "for total in df_new_beautyproducts['Id']:\n",
    "    if total in japan_id_list:\n",
    "        isJapan.append('Japan')\n",
    "    else:\n",
    "        isJapan.append('NonJapan')\n",
    "        \n",
    "df_new['isJapan'] = isJapan\n",
    "df_new"
   ]
  },
  {
   "cell_type": "code",
   "execution_count": null,
   "id": "7feffe77",
   "metadata": {
    "ExecuteTime": {
     "end_time": "2022-12-03T12:19:20.018846Z",
     "start_time": "2022-12-03T12:19:20.000867Z"
    }
   },
   "outputs": [],
   "source": [
    "len(df_new[df_new[\"isJapan\"] == 'Japan'])"
   ]
  },
  {
   "cell_type": "code",
   "execution_count": null,
   "id": "6d49b658",
   "metadata": {
    "ExecuteTime": {
     "end_time": "2022-12-03T12:19:47.641095Z",
     "start_time": "2022-12-03T12:19:47.311632Z"
    }
   },
   "outputs": [],
   "source": [
    "df_new.to_excel(\"C:/Users/USER/Desktop/Portfolio/HKTVmall/HKTVmall_totalBeautyProductsInfo_Japan_data.xlsx\", index=False)"
   ]
  },
  {
   "cell_type": "code",
   "execution_count": 27,
   "id": "5aceee8c",
   "metadata": {
    "ExecuteTime": {
     "end_time": "2022-12-03T16:56:19.166077Z",
     "start_time": "2022-12-03T16:56:18.873007Z"
    }
   },
   "outputs": [
    {
     "data": {
      "text/html": [
       "<div>\n",
       "<style scoped>\n",
       "    .dataframe tbody tr th:only-of-type {\n",
       "        vertical-align: middle;\n",
       "    }\n",
       "\n",
       "    .dataframe tbody tr th {\n",
       "        vertical-align: top;\n",
       "    }\n",
       "\n",
       "    .dataframe thead th {\n",
       "        text-align: right;\n",
       "    }\n",
       "</style>\n",
       "<table border=\"1\" class=\"dataframe\">\n",
       "  <thead>\n",
       "    <tr style=\"text-align: right;\">\n",
       "      <th></th>\n",
       "      <th>Id</th>\n",
       "      <th>Brand Name</th>\n",
       "      <th>Product Name</th>\n",
       "      <th>Sales Volume</th>\n",
       "      <th>Price</th>\n",
       "      <th>isKorea</th>\n",
       "      <th>isJapan</th>\n",
       "    </tr>\n",
       "  </thead>\n",
       "  <tbody>\n",
       "    <tr>\n",
       "      <th>0</th>\n",
       "      <td>H5711001_S_MoistPI_reg_1day-85-100S</td>\n",
       "      <td>Acuvue</td>\n",
       "      <td>(BC 8.5) Acuvue Moist 1-Day Contact Lens (P -1...</td>\n",
       "      <td>10000</td>\n",
       "      <td>170.0</td>\n",
       "      <td>NonKorea</td>\n",
       "      <td>NonJapan</td>\n",
       "    </tr>\n",
       "    <tr>\n",
       "      <th>1</th>\n",
       "      <td>H5711001_S_MoistPI_reg_1day-90-100S</td>\n",
       "      <td>Acuvue</td>\n",
       "      <td>(BC 9.0) Acuvue Moist 1-Day Contact Lens (P -1...</td>\n",
       "      <td>7000</td>\n",
       "      <td>170.0</td>\n",
       "      <td>NonKorea</td>\n",
       "      <td>NonJapan</td>\n",
       "    </tr>\n",
       "    <tr>\n",
       "      <th>2</th>\n",
       "      <td>H5711001_S_Biomedics_ex_1day-86-100S</td>\n",
       "      <td>CooperVision</td>\n",
       "      <td>Biomedics 1 day Extra Contact Lens (BC 8.6, P ...</td>\n",
       "      <td>6000</td>\n",
       "      <td>105.0</td>\n",
       "      <td>NonKorea</td>\n",
       "      <td>NonJapan</td>\n",
       "    </tr>\n",
       "    <tr>\n",
       "      <th>3</th>\n",
       "      <td>H5711001_S_Total1_reg_1day-85-100S</td>\n",
       "      <td>Alcon</td>\n",
       "      <td>DAILIES TOTAL 1 Silicone Hydrogel 1-Day Contac...</td>\n",
       "      <td>4000</td>\n",
       "      <td>205.0</td>\n",
       "      <td>NonKorea</td>\n",
       "      <td>NonJapan</td>\n",
       "    </tr>\n",
       "    <tr>\n",
       "      <th>4</th>\n",
       "      <td>H5711001_S_OasysPI_reg_2week-88-100S</td>\n",
       "      <td>Acuvue</td>\n",
       "      <td>(BC 8.8) Acuvue Oasys 2-Week Contact Lens (P -...</td>\n",
       "      <td>4000</td>\n",
       "      <td>180.0</td>\n",
       "      <td>NonKorea</td>\n",
       "      <td>NonJapan</td>\n",
       "    </tr>\n",
       "  </tbody>\n",
       "</table>\n",
       "</div>"
      ],
      "text/plain": [
       "                                     Id    Brand Name  \\\n",
       "0   H5711001_S_MoistPI_reg_1day-85-100S        Acuvue   \n",
       "1   H5711001_S_MoistPI_reg_1day-90-100S        Acuvue   \n",
       "2  H5711001_S_Biomedics_ex_1day-86-100S  CooperVision   \n",
       "3    H5711001_S_Total1_reg_1day-85-100S         Alcon   \n",
       "4  H5711001_S_OasysPI_reg_2week-88-100S        Acuvue   \n",
       "\n",
       "                                        Product Name  Sales Volume  Price  \\\n",
       "0  (BC 8.5) Acuvue Moist 1-Day Contact Lens (P -1...         10000  170.0   \n",
       "1  (BC 9.0) Acuvue Moist 1-Day Contact Lens (P -1...          7000  170.0   \n",
       "2  Biomedics 1 day Extra Contact Lens (BC 8.6, P ...          6000  105.0   \n",
       "3  DAILIES TOTAL 1 Silicone Hydrogel 1-Day Contac...          4000  205.0   \n",
       "4  (BC 8.8) Acuvue Oasys 2-Week Contact Lens (P -...          4000  180.0   \n",
       "\n",
       "    isKorea   isJapan  \n",
       "0  NonKorea  NonJapan  \n",
       "1  NonKorea  NonJapan  \n",
       "2  NonKorea  NonJapan  \n",
       "3  NonKorea  NonJapan  \n",
       "4  NonKorea  NonJapan  "
      ]
     },
     "execution_count": 27,
     "metadata": {},
     "output_type": "execute_result"
    }
   ],
   "source": [
    "df_final = pd.read_excel(\"C:/Users/USER/Desktop/Portfolio/HKTVmall/HKTVmall_totalBeautyProductsInfo_Japan_data.xlsx\")\n",
    "df_final.head()"
   ]
  },
  {
   "cell_type": "code",
   "execution_count": 28,
   "id": "7453ad60",
   "metadata": {
    "ExecuteTime": {
     "end_time": "2022-12-03T16:56:20.191546Z",
     "start_time": "2022-12-03T16:56:20.148630Z"
    }
   },
   "outputs": [
    {
     "data": {
      "text/html": [
       "<div>\n",
       "<style scoped>\n",
       "    .dataframe tbody tr th:only-of-type {\n",
       "        vertical-align: middle;\n",
       "    }\n",
       "\n",
       "    .dataframe tbody tr th {\n",
       "        vertical-align: top;\n",
       "    }\n",
       "\n",
       "    .dataframe thead th {\n",
       "        text-align: right;\n",
       "    }\n",
       "</style>\n",
       "<table border=\"1\" class=\"dataframe\">\n",
       "  <thead>\n",
       "    <tr style=\"text-align: right;\">\n",
       "      <th></th>\n",
       "      <th>Id</th>\n",
       "      <th>Brand Name</th>\n",
       "      <th>Product Name</th>\n",
       "      <th>Sales Volume</th>\n",
       "      <th>Price</th>\n",
       "      <th>isKorea</th>\n",
       "      <th>isJapan</th>\n",
       "    </tr>\n",
       "  </thead>\n",
       "  <tbody>\n",
       "    <tr>\n",
       "      <th>0</th>\n",
       "      <td>H5711001_S_MoistPI_reg_1day-85-100S</td>\n",
       "      <td>Acuvue</td>\n",
       "      <td>(BC 8.5) Acuvue Moist 1-Day Contact Lens (P -1...</td>\n",
       "      <td>10000</td>\n",
       "      <td>170.0</td>\n",
       "      <td>NonKorea</td>\n",
       "      <td>NonJapan</td>\n",
       "    </tr>\n",
       "    <tr>\n",
       "      <th>1</th>\n",
       "      <td>H5711001_S_MoistPI_reg_1day-90-100S</td>\n",
       "      <td>Acuvue</td>\n",
       "      <td>(BC 9.0) Acuvue Moist 1-Day Contact Lens (P -1...</td>\n",
       "      <td>7000</td>\n",
       "      <td>170.0</td>\n",
       "      <td>NonKorea</td>\n",
       "      <td>NonJapan</td>\n",
       "    </tr>\n",
       "    <tr>\n",
       "      <th>2</th>\n",
       "      <td>H5711001_S_Biomedics_ex_1day-86-100S</td>\n",
       "      <td>CooperVision</td>\n",
       "      <td>Biomedics 1 day Extra Contact Lens (BC 8.6, P ...</td>\n",
       "      <td>6000</td>\n",
       "      <td>105.0</td>\n",
       "      <td>NonKorea</td>\n",
       "      <td>NonJapan</td>\n",
       "    </tr>\n",
       "    <tr>\n",
       "      <th>3</th>\n",
       "      <td>H5711001_S_Total1_reg_1day-85-100S</td>\n",
       "      <td>Alcon</td>\n",
       "      <td>DAILIES TOTAL 1 Silicone Hydrogel 1-Day Contac...</td>\n",
       "      <td>4000</td>\n",
       "      <td>205.0</td>\n",
       "      <td>NonKorea</td>\n",
       "      <td>NonJapan</td>\n",
       "    </tr>\n",
       "    <tr>\n",
       "      <th>4</th>\n",
       "      <td>H5711001_S_OasysPI_reg_2week-88-100S</td>\n",
       "      <td>Acuvue</td>\n",
       "      <td>(BC 8.8) Acuvue Oasys 2-Week Contact Lens (P -...</td>\n",
       "      <td>4000</td>\n",
       "      <td>180.0</td>\n",
       "      <td>NonKorea</td>\n",
       "      <td>NonJapan</td>\n",
       "    </tr>\n",
       "  </tbody>\n",
       "</table>\n",
       "</div>"
      ],
      "text/plain": [
       "                                     Id    Brand Name  \\\n",
       "0   H5711001_S_MoistPI_reg_1day-85-100S        Acuvue   \n",
       "1   H5711001_S_MoistPI_reg_1day-90-100S        Acuvue   \n",
       "2  H5711001_S_Biomedics_ex_1day-86-100S  CooperVision   \n",
       "3    H5711001_S_Total1_reg_1day-85-100S         Alcon   \n",
       "4  H5711001_S_OasysPI_reg_2week-88-100S        Acuvue   \n",
       "\n",
       "                                        Product Name  Sales Volume  Price  \\\n",
       "0  (BC 8.5) Acuvue Moist 1-Day Contact Lens (P -1...         10000  170.0   \n",
       "1  (BC 9.0) Acuvue Moist 1-Day Contact Lens (P -1...          7000  170.0   \n",
       "2  Biomedics 1 day Extra Contact Lens (BC 8.6, P ...          6000  105.0   \n",
       "3  DAILIES TOTAL 1 Silicone Hydrogel 1-Day Contac...          4000  205.0   \n",
       "4  (BC 8.8) Acuvue Oasys 2-Week Contact Lens (P -...          4000  180.0   \n",
       "\n",
       "    isKorea   isJapan  \n",
       "0  NonKorea  NonJapan  \n",
       "1  NonKorea  NonJapan  \n",
       "2  NonKorea  NonJapan  \n",
       "3  NonKorea  NonJapan  \n",
       "4  NonKorea  NonJapan  "
      ]
     },
     "execution_count": 28,
     "metadata": {},
     "output_type": "execute_result"
    }
   ],
   "source": [
    "# Delete error cells (Korea - Japan)\n",
    "condition = df_final[ (df_final['isKorea'] == 'Korea') & (df_final['isJapan'] == 'Japan') ].index\n",
    "df_final.drop(condition , inplace=True)\n",
    "df_final.head(5)"
   ]
  },
  {
   "cell_type": "code",
   "execution_count": 29,
   "id": "8ef09cd7",
   "metadata": {
    "ExecuteTime": {
     "end_time": "2022-12-03T16:56:21.705421Z",
     "start_time": "2022-12-03T16:56:21.672067Z"
    }
   },
   "outputs": [
    {
     "name": "stdout",
     "output_type": "stream",
     "text": [
      "Number of Japanese Products = 132\n"
     ]
    },
    {
     "data": {
      "text/html": [
       "<div>\n",
       "<style scoped>\n",
       "    .dataframe tbody tr th:only-of-type {\n",
       "        vertical-align: middle;\n",
       "    }\n",
       "\n",
       "    .dataframe tbody tr th {\n",
       "        vertical-align: top;\n",
       "    }\n",
       "\n",
       "    .dataframe thead th {\n",
       "        text-align: right;\n",
       "    }\n",
       "</style>\n",
       "<table border=\"1\" class=\"dataframe\">\n",
       "  <thead>\n",
       "    <tr style=\"text-align: right;\">\n",
       "      <th></th>\n",
       "      <th>Sales Volume</th>\n",
       "      <th>Price</th>\n",
       "    </tr>\n",
       "  </thead>\n",
       "  <tbody>\n",
       "    <tr>\n",
       "      <th>Sales Volume</th>\n",
       "      <td>1.000000</td>\n",
       "      <td>0.040622</td>\n",
       "    </tr>\n",
       "    <tr>\n",
       "      <th>Price</th>\n",
       "      <td>0.040622</td>\n",
       "      <td>1.000000</td>\n",
       "    </tr>\n",
       "  </tbody>\n",
       "</table>\n",
       "</div>"
      ],
      "text/plain": [
       "              Sales Volume     Price\n",
       "Sales Volume      1.000000  0.040622\n",
       "Price             0.040622  1.000000"
      ]
     },
     "execution_count": 29,
     "metadata": {},
     "output_type": "execute_result"
    }
   ],
   "source": [
    "# Japan (total)\n",
    "condition = (df_final['isJapan'] == 'Japan')\n",
    "df_japan = df_final[condition]\n",
    "print('Number of Japanese Products = {}'.format(len(df_japan)))\n",
    "df_japan.corr()"
   ]
  },
  {
   "cell_type": "code",
   "execution_count": 30,
   "id": "16a6411f",
   "metadata": {
    "ExecuteTime": {
     "end_time": "2022-12-03T16:56:21.931249Z",
     "start_time": "2022-12-03T16:56:21.895560Z"
    }
   },
   "outputs": [
    {
     "name": "stdout",
     "output_type": "stream",
     "text": [
      "Number of Korean Products = 57\n"
     ]
    },
    {
     "data": {
      "text/html": [
       "<div>\n",
       "<style scoped>\n",
       "    .dataframe tbody tr th:only-of-type {\n",
       "        vertical-align: middle;\n",
       "    }\n",
       "\n",
       "    .dataframe tbody tr th {\n",
       "        vertical-align: top;\n",
       "    }\n",
       "\n",
       "    .dataframe thead th {\n",
       "        text-align: right;\n",
       "    }\n",
       "</style>\n",
       "<table border=\"1\" class=\"dataframe\">\n",
       "  <thead>\n",
       "    <tr style=\"text-align: right;\">\n",
       "      <th></th>\n",
       "      <th>Sales Volume</th>\n",
       "      <th>Price</th>\n",
       "    </tr>\n",
       "  </thead>\n",
       "  <tbody>\n",
       "    <tr>\n",
       "      <th>Sales Volume</th>\n",
       "      <td>1.000000</td>\n",
       "      <td>-0.333414</td>\n",
       "    </tr>\n",
       "    <tr>\n",
       "      <th>Price</th>\n",
       "      <td>-0.333414</td>\n",
       "      <td>1.000000</td>\n",
       "    </tr>\n",
       "  </tbody>\n",
       "</table>\n",
       "</div>"
      ],
      "text/plain": [
       "              Sales Volume     Price\n",
       "Sales Volume      1.000000 -0.333414\n",
       "Price            -0.333414  1.000000"
      ]
     },
     "execution_count": 30,
     "metadata": {},
     "output_type": "execute_result"
    }
   ],
   "source": [
    "# Korea (total)\n",
    "condition = (df_final['isKorea'] == 'Korea')\n",
    "df_korea = df_final[condition]\n",
    "print('Number of Korean Products = {}'.format(len(df_korea)))\n",
    "df_korea.corr()"
   ]
  },
  {
   "cell_type": "code",
   "execution_count": 31,
   "id": "a46c1a04",
   "metadata": {
    "ExecuteTime": {
     "end_time": "2022-12-03T16:56:23.563327Z",
     "start_time": "2022-12-03T16:56:23.524712Z"
    }
   },
   "outputs": [
    {
     "data": {
      "text/html": [
       "<div>\n",
       "<style scoped>\n",
       "    .dataframe tbody tr th:only-of-type {\n",
       "        vertical-align: middle;\n",
       "    }\n",
       "\n",
       "    .dataframe tbody tr th {\n",
       "        vertical-align: top;\n",
       "    }\n",
       "\n",
       "    .dataframe thead th {\n",
       "        text-align: right;\n",
       "    }\n",
       "</style>\n",
       "<table border=\"1\" class=\"dataframe\">\n",
       "  <thead>\n",
       "    <tr style=\"text-align: right;\">\n",
       "      <th></th>\n",
       "      <th>Id</th>\n",
       "      <th>Brand Name</th>\n",
       "      <th>Product Name</th>\n",
       "      <th>Sales Volume</th>\n",
       "      <th>Price</th>\n",
       "      <th>isKorea</th>\n",
       "      <th>isJapan</th>\n",
       "    </tr>\n",
       "  </thead>\n",
       "  <tbody>\n",
       "    <tr>\n",
       "      <th>11</th>\n",
       "      <td>H7988001_S_MV-SMTS001</td>\n",
       "      <td>sMTS</td>\n",
       "      <td>[Official] Korea sMTS Double-Effect Moisturizi...</td>\n",
       "      <td>1000</td>\n",
       "      <td>84.0</td>\n",
       "      <td>Korea</td>\n",
       "      <td>NonJapan</td>\n",
       "    </tr>\n",
       "    <tr>\n",
       "      <th>13</th>\n",
       "      <td>H6280001_S_N188SSAB23333</td>\n",
       "      <td>SANS SOUCIS</td>\n",
       "      <td>(New Version)Anti-Blemish Stick 5ml (ref:25391)</td>\n",
       "      <td>1000</td>\n",
       "      <td>95.0</td>\n",
       "      <td>Korea</td>\n",
       "      <td>NonJapan</td>\n",
       "    </tr>\n",
       "    <tr>\n",
       "      <th>20</th>\n",
       "      <td>S6021001_S_K851939002856B</td>\n",
       "      <td>First Aid Beauty</td>\n",
       "      <td>First Aid Beauty Extreme Repair Cream 170g (in...</td>\n",
       "      <td>900</td>\n",
       "      <td>162.0</td>\n",
       "      <td>Korea</td>\n",
       "      <td>NonJapan</td>\n",
       "    </tr>\n",
       "    <tr>\n",
       "      <th>22</th>\n",
       "      <td>H6649001_S_TRHV153</td>\n",
       "      <td>譽・百貨</td>\n",
       "      <td>【Eye bag Saint】Vibrant Glamour crocodile essen...</td>\n",
       "      <td>800</td>\n",
       "      <td>80.0</td>\n",
       "      <td>Korea</td>\n",
       "      <td>NonJapan</td>\n",
       "    </tr>\n",
       "    <tr>\n",
       "      <th>29</th>\n",
       "      <td>P0038001_S_SD3337875597227</td>\n",
       "      <td>CeraVe</td>\n",
       "      <td>MOISTURIZING CREAM 340g</td>\n",
       "      <td>600</td>\n",
       "      <td>195.0</td>\n",
       "      <td>Korea</td>\n",
       "      <td>NonJapan</td>\n",
       "    </tr>\n",
       "  </tbody>\n",
       "</table>\n",
       "</div>"
      ],
      "text/plain": [
       "                            Id        Brand Name  \\\n",
       "11       H7988001_S_MV-SMTS001              sMTS   \n",
       "13    H6280001_S_N188SSAB23333       SANS SOUCIS   \n",
       "20   S6021001_S_K851939002856B  First Aid Beauty   \n",
       "22          H6649001_S_TRHV153              譽・百貨   \n",
       "29  P0038001_S_SD3337875597227            CeraVe   \n",
       "\n",
       "                                         Product Name  Sales Volume  Price  \\\n",
       "11  [Official] Korea sMTS Double-Effect Moisturizi...          1000   84.0   \n",
       "13    (New Version)Anti-Blemish Stick 5ml (ref:25391)          1000   95.0   \n",
       "20  First Aid Beauty Extreme Repair Cream 170g (in...           900  162.0   \n",
       "22  【Eye bag Saint】Vibrant Glamour crocodile essen...           800   80.0   \n",
       "29                            MOISTURIZING CREAM 340g           600  195.0   \n",
       "\n",
       "   isKorea   isJapan  \n",
       "11   Korea  NonJapan  \n",
       "13   Korea  NonJapan  \n",
       "20   Korea  NonJapan  \n",
       "22   Korea  NonJapan  \n",
       "29   Korea  NonJapan  "
      ]
     },
     "execution_count": 31,
     "metadata": {},
     "output_type": "execute_result"
    }
   ],
   "source": [
    "df_korea = df_korea.sort_values(by='Sales Volume', ascending = False)\n",
    "df_korea.head()"
   ]
  },
  {
   "cell_type": "code",
   "execution_count": 32,
   "id": "cfe3eaa4",
   "metadata": {
    "ExecuteTime": {
     "end_time": "2022-12-03T16:56:23.855128Z",
     "start_time": "2022-12-03T16:56:23.820179Z"
    }
   },
   "outputs": [
    {
     "data": {
      "text/html": [
       "<div>\n",
       "<style scoped>\n",
       "    .dataframe tbody tr th:only-of-type {\n",
       "        vertical-align: middle;\n",
       "    }\n",
       "\n",
       "    .dataframe tbody tr th {\n",
       "        vertical-align: top;\n",
       "    }\n",
       "\n",
       "    .dataframe thead th {\n",
       "        text-align: right;\n",
       "    }\n",
       "</style>\n",
       "<table border=\"1\" class=\"dataframe\">\n",
       "  <thead>\n",
       "    <tr style=\"text-align: right;\">\n",
       "      <th></th>\n",
       "      <th>Id</th>\n",
       "      <th>Brand Name</th>\n",
       "      <th>Product Name</th>\n",
       "      <th>Sales Volume</th>\n",
       "      <th>Price</th>\n",
       "      <th>isKorea</th>\n",
       "      <th>isJapan</th>\n",
       "    </tr>\n",
       "  </thead>\n",
       "  <tbody>\n",
       "    <tr>\n",
       "      <th>7</th>\n",
       "      <td>H0967001_S_10206585A</td>\n",
       "      <td>Fancl</td>\n",
       "      <td>FANCL Mild Cleansing Oil 120ml(TWIN PACK) MCO ...</td>\n",
       "      <td>2000</td>\n",
       "      <td>172.8</td>\n",
       "      <td>NonKorea</td>\n",
       "      <td>Japan</td>\n",
       "    </tr>\n",
       "    <tr>\n",
       "      <th>12</th>\n",
       "      <td>H0967001_S_10200041</td>\n",
       "      <td>Ipocare</td>\n",
       "      <td>EX Wart Removing Cream ( 800260)【x1】 Removing ...</td>\n",
       "      <td>1000</td>\n",
       "      <td>85.0</td>\n",
       "      <td>NonKorea</td>\n",
       "      <td>Japan</td>\n",
       "    </tr>\n",
       "    <tr>\n",
       "      <th>15</th>\n",
       "      <td>H0967001_S_SD4987241135127</td>\n",
       "      <td>50 Megumi</td>\n",
       "      <td>50惠 Hair Revitalizing Essence (Refill) 150ml (...</td>\n",
       "      <td>1000</td>\n",
       "      <td>197.8</td>\n",
       "      <td>NonKorea</td>\n",
       "      <td>Japan</td>\n",
       "    </tr>\n",
       "    <tr>\n",
       "      <th>17</th>\n",
       "      <td>H0967002_S_10205940</td>\n",
       "      <td>Fancl</td>\n",
       "      <td>fancl HTC Deep Charge Collagen 1 Box(10 bottle...</td>\n",
       "      <td>1000</td>\n",
       "      <td>149.8</td>\n",
       "      <td>NonKorea</td>\n",
       "      <td>Japan</td>\n",
       "    </tr>\n",
       "    <tr>\n",
       "      <th>18</th>\n",
       "      <td>H0623003_S_168-955</td>\n",
       "      <td>Fancl</td>\n",
       "      <td>MCO Mild Cleansing Oil 120ml (TWIN PACK) 12241...</td>\n",
       "      <td>1000</td>\n",
       "      <td>172.0</td>\n",
       "      <td>NonKorea</td>\n",
       "      <td>Japan</td>\n",
       "    </tr>\n",
       "  </tbody>\n",
       "</table>\n",
       "</div>"
      ],
      "text/plain": [
       "                            Id Brand Name  \\\n",
       "7         H0967001_S_10206585A      Fancl   \n",
       "12         H0967001_S_10200041    Ipocare   \n",
       "15  H0967001_S_SD4987241135127  50 Megumi   \n",
       "17         H0967002_S_10205940      Fancl   \n",
       "18          H0623003_S_168-955      Fancl   \n",
       "\n",
       "                                         Product Name  Sales Volume  Price  \\\n",
       "7   FANCL Mild Cleansing Oil 120ml(TWIN PACK) MCO ...          2000  172.8   \n",
       "12  EX Wart Removing Cream ( 800260)【x1】 Removing ...          1000   85.0   \n",
       "15  50惠 Hair Revitalizing Essence (Refill) 150ml (...          1000  197.8   \n",
       "17  fancl HTC Deep Charge Collagen 1 Box(10 bottle...          1000  149.8   \n",
       "18  MCO Mild Cleansing Oil 120ml (TWIN PACK) 12241...          1000  172.0   \n",
       "\n",
       "     isKorea isJapan  \n",
       "7   NonKorea   Japan  \n",
       "12  NonKorea   Japan  \n",
       "15  NonKorea   Japan  \n",
       "17  NonKorea   Japan  \n",
       "18  NonKorea   Japan  "
      ]
     },
     "execution_count": 32,
     "metadata": {},
     "output_type": "execute_result"
    }
   ],
   "source": [
    "df_japan = df_japan.sort_values(by='Sales Volume', ascending = False)\n",
    "df_japan.head()"
   ]
  },
  {
   "cell_type": "markdown",
   "id": "ff224de1",
   "metadata": {},
   "source": [
    "<b> Visualization"
   ]
  },
  {
   "cell_type": "code",
   "execution_count": 33,
   "id": "7b76ad3e",
   "metadata": {
    "ExecuteTime": {
     "end_time": "2022-12-03T16:56:28.787925Z",
     "start_time": "2022-12-03T16:56:28.741446Z"
    }
   },
   "outputs": [
    {
     "data": {
      "text/html": [
       "<div>\n",
       "<style scoped>\n",
       "    .dataframe tbody tr th:only-of-type {\n",
       "        vertical-align: middle;\n",
       "    }\n",
       "\n",
       "    .dataframe tbody tr th {\n",
       "        vertical-align: top;\n",
       "    }\n",
       "\n",
       "    .dataframe thead th {\n",
       "        text-align: right;\n",
       "    }\n",
       "</style>\n",
       "<table border=\"1\" class=\"dataframe\">\n",
       "  <thead>\n",
       "    <tr style=\"text-align: right;\">\n",
       "      <th></th>\n",
       "      <th>Id</th>\n",
       "      <th>Brand Name</th>\n",
       "      <th>Product Name</th>\n",
       "      <th>Sales Volume</th>\n",
       "      <th>Price</th>\n",
       "      <th>isKorea</th>\n",
       "      <th>isJapan</th>\n",
       "      <th>Country</th>\n",
       "    </tr>\n",
       "  </thead>\n",
       "  <tbody>\n",
       "    <tr>\n",
       "      <th>0</th>\n",
       "      <td>H5711001_S_MoistPI_reg_1day-85-100S</td>\n",
       "      <td>Acuvue</td>\n",
       "      <td>(BC 8.5) Acuvue Moist 1-Day Contact Lens (P -1...</td>\n",
       "      <td>10000</td>\n",
       "      <td>170.0</td>\n",
       "      <td>NonKorea</td>\n",
       "      <td>NonJapan</td>\n",
       "      <td>Others</td>\n",
       "    </tr>\n",
       "    <tr>\n",
       "      <th>1</th>\n",
       "      <td>H5711001_S_MoistPI_reg_1day-90-100S</td>\n",
       "      <td>Acuvue</td>\n",
       "      <td>(BC 9.0) Acuvue Moist 1-Day Contact Lens (P -1...</td>\n",
       "      <td>7000</td>\n",
       "      <td>170.0</td>\n",
       "      <td>NonKorea</td>\n",
       "      <td>NonJapan</td>\n",
       "      <td>Others</td>\n",
       "    </tr>\n",
       "    <tr>\n",
       "      <th>2</th>\n",
       "      <td>H5711001_S_Biomedics_ex_1day-86-100S</td>\n",
       "      <td>CooperVision</td>\n",
       "      <td>Biomedics 1 day Extra Contact Lens (BC 8.6, P ...</td>\n",
       "      <td>6000</td>\n",
       "      <td>105.0</td>\n",
       "      <td>NonKorea</td>\n",
       "      <td>NonJapan</td>\n",
       "      <td>Others</td>\n",
       "    </tr>\n",
       "    <tr>\n",
       "      <th>3</th>\n",
       "      <td>H5711001_S_Total1_reg_1day-85-100S</td>\n",
       "      <td>Alcon</td>\n",
       "      <td>DAILIES TOTAL 1 Silicone Hydrogel 1-Day Contac...</td>\n",
       "      <td>4000</td>\n",
       "      <td>205.0</td>\n",
       "      <td>NonKorea</td>\n",
       "      <td>NonJapan</td>\n",
       "      <td>Others</td>\n",
       "    </tr>\n",
       "    <tr>\n",
       "      <th>4</th>\n",
       "      <td>H5711001_S_OasysPI_reg_2week-88-100S</td>\n",
       "      <td>Acuvue</td>\n",
       "      <td>(BC 8.8) Acuvue Oasys 2-Week Contact Lens (P -...</td>\n",
       "      <td>4000</td>\n",
       "      <td>180.0</td>\n",
       "      <td>NonKorea</td>\n",
       "      <td>NonJapan</td>\n",
       "      <td>Others</td>\n",
       "    </tr>\n",
       "  </tbody>\n",
       "</table>\n",
       "</div>"
      ],
      "text/plain": [
       "                                     Id    Brand Name  \\\n",
       "0   H5711001_S_MoistPI_reg_1day-85-100S        Acuvue   \n",
       "1   H5711001_S_MoistPI_reg_1day-90-100S        Acuvue   \n",
       "2  H5711001_S_Biomedics_ex_1day-86-100S  CooperVision   \n",
       "3    H5711001_S_Total1_reg_1day-85-100S         Alcon   \n",
       "4  H5711001_S_OasysPI_reg_2week-88-100S        Acuvue   \n",
       "\n",
       "                                        Product Name  Sales Volume  Price  \\\n",
       "0  (BC 8.5) Acuvue Moist 1-Day Contact Lens (P -1...         10000  170.0   \n",
       "1  (BC 9.0) Acuvue Moist 1-Day Contact Lens (P -1...          7000  170.0   \n",
       "2  Biomedics 1 day Extra Contact Lens (BC 8.6, P ...          6000  105.0   \n",
       "3  DAILIES TOTAL 1 Silicone Hydrogel 1-Day Contac...          4000  205.0   \n",
       "4  (BC 8.8) Acuvue Oasys 2-Week Contact Lens (P -...          4000  180.0   \n",
       "\n",
       "    isKorea   isJapan Country  \n",
       "0  NonKorea  NonJapan  Others  \n",
       "1  NonKorea  NonJapan  Others  \n",
       "2  NonKorea  NonJapan  Others  \n",
       "3  NonKorea  NonJapan  Others  \n",
       "4  NonKorea  NonJapan  Others  "
      ]
     },
     "execution_count": 33,
     "metadata": {},
     "output_type": "execute_result"
    }
   ],
   "source": [
    "# create a list of our conditions\n",
    "conditions = [\n",
    "    (df_final['isKorea'] == 'Korea'),\n",
    "    (df_final['isJapan'] == 'Japan'),\n",
    "    (df_final['isKorea'] == 'NonKorea') & (df_final['isJapan'] == 'NonJapan')\n",
    "    ]\n",
    "\n",
    "values = ['Korea', 'Japan', 'Others']\n",
    "\n",
    "df_final['Country'] = np.select(conditions, values)\n",
    "df_final.head()"
   ]
  },
  {
   "cell_type": "code",
   "execution_count": 35,
   "id": "a150bb33",
   "metadata": {
    "ExecuteTime": {
     "end_time": "2022-12-03T16:56:45.764664Z",
     "start_time": "2022-12-03T16:56:45.454420Z"
    }
   },
   "outputs": [
    {
     "data": {
      "image/png": "[encoded data removed]",
      "text/plain": [
       "<Figure size 1440x720 with 1 Axes>"
      ]
     },
     "metadata": {},
     "output_type": "display_data"
    }
   ],
   "source": [
    "koreaCnt = len(df_final[(df_final['isKorea'] == 'Korea')])\n",
    "japanCnt = len(df_final[(df_final['isJapan'] == 'Japan')])\n",
    "others = len(df_final) - koreaCnt - japanCnt\n",
    "\n",
    "x = np.array([koreaCnt, japanCnt, others])\n",
    "labels = [\"Korea\", \"Japan\", \"Others\"]\n",
    "\n",
    "plt.figure (figsize = (20, 10))\n",
    "colors = ['#eff4c8', '#335b95', '#84c1b5']\n",
    "\n",
    "plt.pie(x, labels = labels, colors = colors, autopct='%.2f')\n",
    "plt.title('The Number of Beauty Products', fontsize = 15)\n",
    "plt.show() "
   ]
  },
  {
   "cell_type": "code",
   "execution_count": 36,
   "id": "751b6dff",
   "metadata": {
    "ExecuteTime": {
     "end_time": "2022-12-03T16:56:47.841669Z",
     "start_time": "2022-12-03T16:56:47.138144Z"
    }
   },
   "outputs": [
    {
     "data": {
      "image/png": "[encoded data removed]",
      "text/plain": [
       "<Figure size 1440x720 with 2 Axes>"
      ]
     },
     "metadata": {
      "needs_background": "light"
     },
     "output_type": "display_data"
    }
   ],
   "source": [
    "koPrice = round(df_korea['Price'].mean(), 2)\n",
    "jpPrice = round(df_japan['Price'].mean(), 2)\n",
    "koSales = round(df_korea['Sales Volume'].mean(), 2)\n",
    "jpSales = round(df_japan['Sales Volume'].mean(), 2)\n",
    "\n",
    "colors = ['#335b95', '#eff4c8']\n",
    "x = ['Korea', 'Japan']\n",
    "y_price = [koPrice, jpPrice]\n",
    "y_sales = [koSales, jpSales]\n",
    "\n",
    "fig, (ax1, ax2) = plt.subplots(ncols=2, sharey=True, figsize = (20, 10))\n",
    "sns.barplot(x=x, y=y_price, ax = ax1, palette = colors)\n",
    "ax1.set_title('Price Comparison (Korea vs Japan)')\n",
    "\n",
    "sns.barplot(x=x, y=y_sales, ax = ax2, palette = colors)\n",
    "ax2.set_title('Sales Comparison (Korea vs Japan)')\n",
    "\n",
    "for p in ax1.patches:\n",
    "    height = p.get_height()\n",
    "    ax1.text(p.get_x() + p.get_width() / 2., height + 5, round(height, 2), ha = 'center', size = 14)\n",
    "\n",
    "for p in ax2.patches:\n",
    "    height = p.get_height()\n",
    "    ax2.text(p.get_x() + p.get_width() / 2., height + 5, round(height, 2), ha = 'center', size = 14)"
   ]
  },
  {
   "cell_type": "code",
   "execution_count": 37,
   "id": "a36a83b4",
   "metadata": {
    "ExecuteTime": {
     "end_time": "2022-12-03T16:56:50.427394Z",
     "start_time": "2022-12-03T16:56:49.130709Z"
    }
   },
   "outputs": [
    {
     "data": {
      "text/plain": [
       "Text(0.5, 1.0, 'Japanese Products')"
      ]
     },
     "execution_count": 37,
     "metadata": {},
     "output_type": "execute_result"
    },
    {
     "data": {
      "image/png": "[encoded data removed]",
      "text/plain": [
       "<Figure size 720x360 with 2 Axes>"
      ]
     },
     "metadata": {
      "needs_background": "light"
     },
     "output_type": "display_data"
    }
   ],
   "source": [
    "fig, (ax1, ax2) = plt.subplots(ncols=2, sharey=True, figsize = (10, 5))\n",
    "\n",
    "sns.regplot(y=df_korea['Price'], x=df_korea['Sales Volume'], scatter_kws={\"color\": \"#335b95\"}, line_kws={\"color\": \"#eff4c8\"}, ax=ax1)\n",
    "ax1.set_title('Korean Products')\n",
    "\n",
    "sns.regplot(y=df_japan['Price'], x=df_japan['Sales Volume'], scatter_kws={\"color\": \"#335b95\"}, line_kws={\"color\": \"#eff4c8\"}, ax=ax2)\n",
    "ax2.set_title('Japanese Products')"
   ]
  },
  {
   "cell_type": "code",
   "execution_count": 38,
   "id": "64b3207d",
   "metadata": {
    "ExecuteTime": {
     "end_time": "2022-12-03T16:56:52.386220Z",
     "start_time": "2022-12-03T16:56:52.355507Z"
    }
   },
   "outputs": [
    {
     "data": {
      "text/html": [
       "<div>\n",
       "<style scoped>\n",
       "    .dataframe tbody tr th:only-of-type {\n",
       "        vertical-align: middle;\n",
       "    }\n",
       "\n",
       "    .dataframe tbody tr th {\n",
       "        vertical-align: top;\n",
       "    }\n",
       "\n",
       "    .dataframe thead th {\n",
       "        text-align: right;\n",
       "    }\n",
       "</style>\n",
       "<table border=\"1\" class=\"dataframe\">\n",
       "  <thead>\n",
       "    <tr style=\"text-align: right;\">\n",
       "      <th></th>\n",
       "      <th>Sales Volume</th>\n",
       "      <th>Price</th>\n",
       "    </tr>\n",
       "  </thead>\n",
       "  <tbody>\n",
       "    <tr>\n",
       "      <th>Sales Volume</th>\n",
       "      <td>1.000000</td>\n",
       "      <td>-0.333414</td>\n",
       "    </tr>\n",
       "    <tr>\n",
       "      <th>Price</th>\n",
       "      <td>-0.333414</td>\n",
       "      <td>1.000000</td>\n",
       "    </tr>\n",
       "  </tbody>\n",
       "</table>\n",
       "</div>"
      ],
      "text/plain": [
       "              Sales Volume     Price\n",
       "Sales Volume      1.000000 -0.333414\n",
       "Price            -0.333414  1.000000"
      ]
     },
     "execution_count": 38,
     "metadata": {},
     "output_type": "execute_result"
    }
   ],
   "source": [
    "df_korea.corr()"
   ]
  },
  {
   "cell_type": "code",
   "execution_count": 39,
   "id": "627037bb",
   "metadata": {
    "ExecuteTime": {
     "end_time": "2022-12-03T16:56:52.911497Z",
     "start_time": "2022-12-03T16:56:52.884877Z"
    }
   },
   "outputs": [
    {
     "data": {
      "text/html": [
       "<div>\n",
       "<style scoped>\n",
       "    .dataframe tbody tr th:only-of-type {\n",
       "        vertical-align: middle;\n",
       "    }\n",
       "\n",
       "    .dataframe tbody tr th {\n",
       "        vertical-align: top;\n",
       "    }\n",
       "\n",
       "    .dataframe thead th {\n",
       "        text-align: right;\n",
       "    }\n",
       "</style>\n",
       "<table border=\"1\" class=\"dataframe\">\n",
       "  <thead>\n",
       "    <tr style=\"text-align: right;\">\n",
       "      <th></th>\n",
       "      <th>Sales Volume</th>\n",
       "      <th>Price</th>\n",
       "    </tr>\n",
       "  </thead>\n",
       "  <tbody>\n",
       "    <tr>\n",
       "      <th>Sales Volume</th>\n",
       "      <td>1.000000</td>\n",
       "      <td>0.040622</td>\n",
       "    </tr>\n",
       "    <tr>\n",
       "      <th>Price</th>\n",
       "      <td>0.040622</td>\n",
       "      <td>1.000000</td>\n",
       "    </tr>\n",
       "  </tbody>\n",
       "</table>\n",
       "</div>"
      ],
      "text/plain": [
       "              Sales Volume     Price\n",
       "Sales Volume      1.000000  0.040622\n",
       "Price             0.040622  1.000000"
      ]
     },
     "execution_count": 39,
     "metadata": {},
     "output_type": "execute_result"
    }
   ],
   "source": [
    "df_japan.corr()"
   ]
  },
  {
   "cell_type": "code",
   "execution_count": 40,
   "id": "98f48447",
   "metadata": {
    "ExecuteTime": {
     "end_time": "2022-12-03T16:56:53.414359Z",
     "start_time": "2022-12-03T16:56:53.392341Z"
    }
   },
   "outputs": [
    {
     "data": {
      "text/plain": [
       "1790740.2"
      ]
     },
     "execution_count": 40,
     "metadata": {},
     "output_type": "execute_result"
    }
   ],
   "source": [
    "df_korea['Sales Revenue'] = round(df_korea['Sales Volume'] * df_korea['Price'], 2)\n",
    "df_korea = df_korea.sort_values(by='Sales Revenue', ascending=False)\n",
    "df_korea['Sales Revenue'].sum()"
   ]
  },
  {
   "cell_type": "code",
   "execution_count": 41,
   "id": "cd066e58",
   "metadata": {
    "ExecuteTime": {
     "end_time": "2022-12-03T16:56:53.914702Z",
     "start_time": "2022-12-03T16:56:53.892015Z"
    }
   },
   "outputs": [
    {
     "data": {
      "text/plain": [
       "4138920.0"
      ]
     },
     "execution_count": 41,
     "metadata": {},
     "output_type": "execute_result"
    }
   ],
   "source": [
    "df_japan['Sales Revenue'] = round(df_japan['Sales Volume'] * df_japan['Price'], 2)\n",
    "df_japan = df_japan.sort_values(by='Sales Revenue', ascending=False)\n",
    "df_japan['Sales Revenue'].sum()"
   ]
  },
  {
   "cell_type": "code",
   "execution_count": 42,
   "id": "0fa7f6f4",
   "metadata": {
    "ExecuteTime": {
     "end_time": "2022-12-03T16:56:55.196885Z",
     "start_time": "2022-12-03T16:56:55.165888Z"
    }
   },
   "outputs": [],
   "source": [
    "import statistics as stats"
   ]
  },
  {
   "cell_type": "code",
   "execution_count": 43,
   "id": "0b3eab82",
   "metadata": {
    "ExecuteTime": {
     "end_time": "2022-12-03T16:56:55.957141Z",
     "start_time": "2022-12-03T16:56:55.936045Z"
    }
   },
   "outputs": [
    {
     "name": "stdout",
     "output_type": "stream",
     "text": [
      "Standard Deviation of Korea Price is 49.96846154448631 \n",
      "Standard Deviation of Korea Sales Revenue is 263.77742644463416 \n"
     ]
    }
   ],
   "source": [
    "print(\"Standard Deviation of Korea Price is % s \"\n",
    "                % (stats.stdev(df_korea['Price'])))\n",
    "\n",
    "print(\"Standard Deviation of Korea Sales Revenue is % s \"\n",
    "                % (stats.stdev(df_korea['Sales Volume'])))"
   ]
  },
  {
   "cell_type": "code",
   "execution_count": 44,
   "id": "20c06b3f",
   "metadata": {
    "ExecuteTime": {
     "end_time": "2022-12-03T16:56:56.183068Z",
     "start_time": "2022-12-03T16:56:56.160075Z"
    }
   },
   "outputs": [
    {
     "name": "stdout",
     "output_type": "stream",
     "text": [
      "Standard Deviation of Japan Price is 42.13132033869077 \n",
      "Standard Deviation of Japan Sales Revenue is 272.7976815583542 \n"
     ]
    }
   ],
   "source": [
    "print(\"Standard Deviation of Japan Price is % s \"\n",
    "                % (stats.stdev(df_japan['Price'])))\n",
    "\n",
    "print(\"Standard Deviation of Japan Sales Revenue is % s \"\n",
    "                % (stats.stdev(df_japan['Sales Volume'])))"
   ]
  },
  {
   "cell_type": "code",
   "execution_count": 45,
   "id": "16d94ebf",
   "metadata": {
    "ExecuteTime": {
     "end_time": "2022-12-03T16:56:59.159427Z",
     "start_time": "2022-12-03T16:56:58.574335Z"
    }
   },
   "outputs": [
    {
     "name": "stderr",
     "output_type": "stream",
     "text": [
      "C:\\ProgramData\\Anaconda3\\lib\\site-packages\\seaborn\\_decorators.py:36: FutureWarning: Pass the following variable as a keyword arg: x. From version 0.12, the only valid positional argument will be `data`, and passing other arguments without an explicit keyword will result in an error or misinterpretation.\n",
      "  warnings.warn(\n",
      "C:\\ProgramData\\Anaconda3\\lib\\site-packages\\seaborn\\_decorators.py:36: FutureWarning: Pass the following variable as a keyword arg: x. From version 0.12, the only valid positional argument will be `data`, and passing other arguments without an explicit keyword will result in an error or misinterpretation.\n",
      "  warnings.warn(\n"
     ]
    },
    {
     "data": {
      "text/plain": [
       "Text(0.5, 1.0, 'Japanese Product')"
      ]
     },
     "execution_count": 45,
     "metadata": {},
     "output_type": "execute_result"
    },
    {
     "data": {
      "image/png": "[encoded data removed]",
      "text/plain": [
       "<Figure size 1080x360 with 2 Axes>"
      ]
     },
     "metadata": {
      "needs_background": "light"
     },
     "output_type": "display_data"
    }
   ],
   "source": [
    "fig, (ax1, ax2) = plt.subplots(ncols=2, sharey=True, figsize = (15, 5))\n",
    "\n",
    "sns.boxplot(df_korea['Sales Volume'], color='#335b95', ax=ax1)\n",
    "ax1.set_title('Korean Product')\n",
    "sns.boxplot(df_japan['Sales Volume'], color='#335b95', ax=ax2)\n",
    "ax2.set_title('Japanese Product')"
   ]
  },
  {
   "cell_type": "code",
   "execution_count": null,
   "id": "767aedf1",
   "metadata": {},
   "outputs": [],
   "source": []
  }
 ],
 "metadata": {
  "kernelspec": {
   "display_name": "Python 3",
   "language": "python",
   "name": "python3"
  },
  "language_info": {
   "codemirror_mode": {
    "name": "ipython",
    "version": 3
   },
   "file_extension": ".py",
   "mimetype": "text/x-python",
   "name": "python",
   "nbconvert_exporter": "python",
   "pygments_lexer": "ipython3",
   "version": "3.8.8"
  }
 },
 "nbformat": 4,
 "nbformat_minor": 5
}
